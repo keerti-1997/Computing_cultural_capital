{
 "cells": [
  {
   "cell_type": "code",
   "execution_count": 33,
   "metadata": {},
   "outputs": [],
   "source": [
    "import numpy as np\n",
    "import pandas as pd\n",
    "import glob\n",
    "import matplotlib.pyplot as plt\n",
    "import seaborn as sns\n",
    "%matplotlib inline\n",
    "import warnings\n",
    "import wordcloud\n",
    "import string\n",
    "import validators\n",
    "import re\n",
    "import string\n",
    "import nltk\n",
    "import langdetect\n",
    "from textblob import TextBlob\n",
    "from collections import Counter\n",
    "from sklearn.utils import shuffle\n",
    "from sklearn.model_selection import cross_val_score\n",
    "from sklearn.feature_extraction.text import CountVectorizer\n",
    "from sklearn.decomposition import FactorAnalysis\n",
    "from sklearn.preprocessing import LabelEncoder\n",
    "from statsmodels.stats.outliers_influence import variance_inflation_factor  \n",
    "from factor_analyzer.factor_analyzer import FactorAnalyzer\n",
    "import seaborn as sns\n",
    "warnings.filterwarnings(\"ignore\")\n",
    "pd.options.display.max_columns = 100"
   ]
  },
  {
   "cell_type": "markdown",
   "metadata": {},
   "source": [
    "### All Functions"
   ]
  },
  {
   "cell_type": "code",
   "execution_count": 75,
   "metadata": {},
   "outputs": [],
   "source": [
    "categories = {\"is_media\":[\"media\",\"politics\",\"journalism\",\"journalist\",\"news\",\"reporter\",\"blogger\",\"youtube\",\\\n",
    "                          \"writer\",\"youtuber\",\"communication\",\"radio\",\"internet\",\"film\",\"television\"],  \n",
    "             \"is_education\":[\"educationist\",\"teacher\",\"professor\",\"tutor\",\"pedagogue\",\"scientist\",\"instructor\", \n",
    "                             \"coach\",\"trainer\",\"lecturer\",\"academic\",\"counselor\",\"phd\",\"educator\",\"scholar\",\n",
    "                             \"teaching\",\"philosopher\",\"consultant\",\"physician\",\"doctor\",\"education\",\"science\",\n",
    "                             \"archaeologist\",\"archaeology\",\"graduate\",\"student\",\"advocate\",\"lawyer\",\"computer\",\n",
    "                             \"philanthropist\",\"engineer\",\"engineering\",\"editor\",\"college\",\"university\",\"author\",\n",
    "                            \"programming\",\"programmer\",\"doctorate\"], \n",
    "             \"is_politics\":[\"politician\",\"politics\",\"senator\",\"congress\",\"political\",\"archivist\",\"legislatures\",\n",
    "                           \"ideology\",\"ideologist\"],\n",
    "             \"is_art\":[\"literature\",\"art\",\"artist\",\"actor\",\"music\",\"dance\",\"history\",\"theatre\",\"drama\",\"producer\",\n",
    "                       \"director\",\"architect\",\"actress\",\"musician\",\"dancer\",\"design\",\"photographer\",\"storyteller\",\n",
    "                       \"poet\",\"decorator\",\"improvisor\",\"culture\",\"humorist\"],\n",
    "             \"is_sports\":[\"sports\",\"cricket\",\"tennis\",\"football\",\"basketball\",\"volleyball\",\"cyclist\"],\n",
    "             \"is_feminist\":[\"feminist\",\"feminism\"]}\n",
    "\n",
    "def add_category_columns(row):\n",
    "    desc = row[\"user_description\"]\n",
    "    if desc is not np.nan:\n",
    "        desc = desc.lower()\n",
    "        desc = re.sub(r'[^A-Za-z]',' ',desc).strip()\n",
    "        desc = re.sub('#', '', desc)                      \n",
    "        desc = re.sub('https?:\\/\\/\\S+', '', desc)  \n",
    "        desc = desc.split()\n",
    "        for c in categories:\n",
    "            row[c] = 0\n",
    "            if len(list(set(categories[c])&set(desc))) > 0:\n",
    "                row[c] = 1\n",
    "    return row\n",
    "\n",
    "def get_retweet_count(user,retweet_users):\n",
    "    retweet_count = 0\n",
    "    if user in retweet_users:\n",
    "        retweet_count = retweet_users[user]\n",
    "    return retweet_count\n",
    "        \n",
    "def get_retweets(source_df,dest_df):\n",
    "    retweet_user_list = []\n",
    "    for t in source_df[source_df[\"is_retweet\"]==1][\"Text\"]:\n",
    "        retweet_user_list.append(t.split(\" \")[1].replace(\"@\",\"\").replace(\":\",\"\"))\n",
    "    retweet_users = dict(Counter(retweet_user_list))    \n",
    "    dest_df[\"retweet_count\"] = dest_df.apply(lambda x : get_retweet_count(x[\"name\"],retweet_users),axis=1)\n",
    "    return dest_df,retweet_users\n",
    "\n",
    "def mention_names(df,retweet_list):\n",
    "    mention_screen_names = []\n",
    "    for i in list(df[\"user_mention_screen_name\"]):\n",
    "        try:\n",
    "            i = i.split(\";\")\n",
    "            for x in i:\n",
    "                if x not in retweet_list:\n",
    "                    mention_screen_names.append(x)\n",
    "        except Exception as e:\n",
    "            pass\n",
    "    return mention_screen_names\n",
    "\n",
    "def mention_counts(user,mentions):\n",
    "    mention_count = 0\n",
    "    if user in mentions:\n",
    "        mention_count = mentions[user]\n",
    "    return mention_count\n",
    "\n",
    "\n",
    "def get_mentions(source_df,dest_df,retweet_list):\n",
    "    mentions = Counter(mention_names(source_df,retweet_list))\n",
    "    dest_df[\"mention_count\"] = dest_df.apply(lambda x : mention_counts(x[\"name\"],mentions),axis=1)\n",
    "    return dest_df\n",
    "\n",
    "def detect_bio_lang(row):\n",
    "    text = row[\"user_description\"]\n",
    "    row[\"bio_language\"] = \"NA\"\n",
    "    try:\n",
    "        if text is not np.nan or len(text) > 2: \n",
    "            row[\"bio_language\"] = langdetect.detect(text)\n",
    "    except Exception as e:\n",
    "        pass\n",
    "    return row\n",
    "\n",
    "def get_all_users(df):\n",
    "    user_details = {}\n",
    "    for i,j in df[[\"from_user\",\"user_description\"]].values:\n",
    "        if i not in user_details:\n",
    "            user_details[i] = j\n",
    "    user_details = pd.DataFrame(user_details.items(), columns=[\"from_user\", \"user_description\"])\n",
    "    return user_details\n",
    "\n",
    "\n",
    "def get_tweet_counts(source_df,dest_df):\n",
    "    tweet_counts = source_df.groupby(\"from_user\")[\"Text\"].count().reset_index()\n",
    "    tweet_counts.columns = [\"from_user\",\"tweets_count\"]\n",
    "    dest_df = pd.merge(dest_df,tweet_counts[tweet_counts[\"from_user\"].isin(dest_df[\"from_user\"])],how=\"left\",on=\"from_user\")\n",
    "    return dest_df\n",
    "\n",
    "def add_category_columns_tweets(row):\n",
    "    desc = row[\"Text\"]\n",
    "    if desc is not np.nan:\n",
    "        desc = desc.lower()\n",
    "        desc = re.sub(r'[^A-Za-z]',' ',desc).strip()\n",
    "        desc = re.sub('#', '', desc)                      \n",
    "        desc = re.sub('https?:\\/\\/\\S+', '', desc)  \n",
    "        desc = desc.split()\n",
    "        for c in categories:\n",
    "            row[c] = 0\n",
    "            if len(list(set(categories[c])&set(desc))) > 0:\n",
    "                row[c] = 1\n",
    "    return row\n",
    "\n",
    "def transform_columns(df):\n",
    "    df = df.drop([\"created_at\",\"from_user\",\"user_description\",\"movement_in\",\"name\"],axis=1)\n",
    "    df[\"bio_language\"] = df[\"bio_language\"].fillna(\"NA\")\n",
    "    df[\"followers_count\"] = df[\"followers_count\"].fillna(0)\n",
    "    df[\"tweets_count\"] = df[\"tweets_count\"].fillna(0)\n",
    "    df[\"retweet_count\"] = df[\"retweet_count\"].fillna(0)\n",
    "    df[\"tweets_count\"] = df[\"tweets_count\"].fillna(0)\n",
    "    df[\"mention_count\"] = df[\"mention_count\"].fillna(0)\n",
    "    df[\"is_art\"] = df[\"is_art\"].fillna(0)\n",
    "    df[\"is_education\"] = df[\"is_education\"].fillna(0)\n",
    "    df[\"is_feminist\"] = df[\"is_feminist\"].fillna(0)\n",
    "    df[\"is_media\"] = df[\"is_media\"].fillna(0)\n",
    "    df[\"is_politics\"] = df[\"is_politics\"].fillna(0)\n",
    "    df[\"is_sports\"] = df[\"is_sports\"].fillna(0)\n",
    "    df[\"positive\"] = df[\"positive\"].fillna(0)\n",
    "    df[\"negative\"] = df[\"negative\"].fillna(0)\n",
    "    df[\"neutral\"] = df[\"neutral\"].fillna(0)\n",
    "    df[\"education_content_count\"] = df[\"education_content_count\"].fillna(0)\n",
    "    df[\"media_content_count\"] = df[\"media_content_count\"].fillna(0)\n",
    "    df[\"politics_content_count\"] = df[\"politics_content_count\"].fillna(0)\n",
    "    \n",
    "    lb_make = LabelEncoder()\n",
    "    df[\"bio_language\"] = lb_make.fit_transform(df[\"bio_language\"])\n",
    "    df[\"macro_micro\"] = lb_make.fit_transform(df[\"macro_micro\"])\n",
    "    #df[\"name\"] = lb_make.fit_transform(df[\"name\"])\n",
    "    return df\n",
    "\n",
    "  \n",
    "def calculate_vif_(X, thresh=50):\n",
    "    cols = X.columns\n",
    "    variables = np.arange(X.shape[1])\n",
    "    dropped=True\n",
    "    while dropped:\n",
    "        dropped=False\n",
    "        c = X[cols[variables]].values\n",
    "        vif = [variance_inflation_factor(c, ix) for ix in np.arange(c.shape[1])]\n",
    "\n",
    "        maxloc = vif.index(max(vif))\n",
    "        if max(vif) > thresh:\n",
    "            print('dropping \\'' + X[cols[variables]].columns[maxloc] + '\\' at index: ' + str(maxloc))\n",
    "            variables = np.delete(variables, maxloc)\n",
    "            dropped=True\n",
    "\n",
    "    print('Remaining variables:')\n",
    "    print(X.columns[variables])\n",
    "    return X[cols[variables]]"
   ]
  },
  {
   "cell_type": "code",
   "execution_count": 27,
   "metadata": {},
   "outputs": [
    {
     "name": "stdout",
     "output_type": "stream",
     "text": [
      "(10478, 4)\n",
      "(3111, 4)\n",
      "(11484, 4)\n",
      "(27331, 4)\n"
     ]
    }
   ],
   "source": [
    "mac_mic = glob.glob(\"./Data/*.csv\")\n",
    "i_sb = pd.DataFrame()\n",
    "i_gw = pd.DataFrame()\n",
    "i_wm = pd.DataFrame()\n",
    "i_mc = pd.DataFrame()\n",
    "\n",
    "for i in mac_mic:\n",
    "    movement = i.split(\"/\")[2].split(\".\")[0].split(\"_\")[2]\n",
    "    if movement == \"sb\":\n",
    "        i_sb = pd.read_csv(i)\n",
    "        i_sb[\"movement_in\"] = \"StopTheBan\"\n",
    "        print(i_sb.shape)\n",
    "    elif movement == \"gw\":\n",
    "        i_gw = pd.read_csv(i)\n",
    "        i_gw[\"movement_in\"] = \"GrabYourWallet\"\n",
    "        print(i_gw.shape)\n",
    "    elif movement == \"wm\":\n",
    "        i_wm = pd.read_csv(i)\n",
    "        i_wm[\"movement_in\"] = \"WhyIMarch\"\n",
    "        print(i_wm.shape)\n",
    "    else:\n",
    "        i_mc = pd.read_csv(i)\n",
    "        i_mc[\"movement_in\"] = \"McStrike\"\n",
    "        print(i_mc.shape)"
   ]
  },
  {
   "cell_type": "markdown",
   "metadata": {},
   "source": [
    "### Basic Cleaning"
   ]
  },
  {
   "cell_type": "code",
   "execution_count": 79,
   "metadata": {},
   "outputs": [],
   "source": [
    "dataM1 = glob.glob(\"./Data/20170122 WhyIMarch/*.csv\")\n",
    "dataM2 = glob.glob(\"./Data/20170204 GrabYourWallet/*.csv\")\n",
    "dataM3 = glob.glob(\"./Data/20190521 StoptheBan/*.csv\")\n",
    "dataM4 = glob.glob(\"./Data/McStrike/*.csv\")\n",
    "\n",
    "M1 = pd.DataFrame()\n",
    "for d in dataM1:\n",
    "    M1 = pd.concat([M1,pd.read_csv(d)])\n",
    "\n",
    "M2 = pd.DataFrame()\n",
    "for d in dataM2:\n",
    "    M2 = pd.concat([M2,pd.read_csv(d)])\n",
    "    \n",
    "M3 = pd.DataFrame()\n",
    "for d in dataM3:\n",
    "    M3 = pd.concat([M3,pd.read_csv(d)])\n",
    "    \n",
    "M4 = pd.DataFrame()\n",
    "for d in dataM4:\n",
    "    M4 = pd.concat([M4,pd.read_csv(d)])    \n",
    "    \n",
    "M1.columns = [x.replace(\"[M] \",\"\").replace(\": \",\"\") for x in M1.columns] \n",
    "M2.columns = [x.replace(\"[M] \",\"\").replace(\": \",\"\") for x in M2.columns] \n",
    "M3.columns = [x.replace(\"[M] \",\"\").replace(\": \",\"\") for x in M3.columns] \n",
    "M4.columns = [x.replace(\"[M] \",\"\").replace(\": \",\"\") for x in M4.columns] \n",
    "\n",
    "M1[\"followers_count\"] = M1[\"followers_count\"].fillna(0)\n",
    "M2[\"followers_count\"] = M2[\"followers_count\"].fillna(0)\n",
    "M3[\"followers_count\"] = M3[\"followers_count\"].fillna(0)\n",
    "\n",
    "M1[\"favourites_count\"] = M1[\"favourites_count\"].fillna(0)\n",
    "M2[\"favourites_count\"] = M2[\"favourites_count\"].fillna(0)\n",
    "M3[\"favourites_count\"] = M3[\"favourites_count\"].fillna(0)\n",
    "\n",
    "M1[\"friends_count\"] = M1[\"friends_count\"].fillna(0)\n",
    "M2[\"friends_count\"] = M2[\"friends_count\"].fillna(0)\n",
    "M3[\"friends_count\"] = M3[\"friends_count\"].fillna(0)\n",
    "\n",
    "M1[\"username\"] = M1[\"username\"].fillna(\"NA\")\n",
    "M2[\"username\"] = M2[\"username\"].fillna(\"NA\")\n",
    "M3[\"username\"] = M3[\"username\"].fillna(\"NA\")\n",
    "\n",
    "M1[\"hashtag\"] = M1[\"hashtag\"].fillna(\"NA\")\n",
    "M2[\"hashtag\"] = M2[\"hashtag\"].fillna(\"NA\")                                   \n",
    "M3[\"hashtag\"] = M3[\"hashtag\"].fillna(\"NA\")\n",
    "\n",
    "M1[\"movement_name\"] = \"WhyIMarch\"\n",
    "M2[\"movement_name\"] = \"GrabYourWallet\"\n",
    "M3[\"movement_name\"] = \"StopTheBan\"\n",
    "M4[\"movement_name\"] = \"McStrike\"\n",
    "\n",
    "M1[\"created_at\"] =  pd.to_datetime(M1[\"created_at\"], format='%Y-%m-%d %H:%M:%S')\n",
    "M2[\"created_at\"] =  pd.to_datetime(M2[\"created_at\"], format='%Y-%m-%d %H:%M:%S')\n",
    "M3[\"created_at\"] =  pd.to_datetime(M3[\"created_at\"], format='%Y-%m-%d %H:%M:%S')\n",
    "M4[\"created_at\"] =  pd.to_datetime(M4[\"created_at\"], format='%Y-%m-%d %H:%M:%S')\n",
    "\n",
    "M1[\"is_retweet\"] = 0\n",
    "M1.loc[M1[\"Text\"].str.contains(\"^RT\"),\"is_retweet\"] = 1\n",
    "M2[\"is_retweet\"] = 0\n",
    "M2.loc[M2[\"Text\"].str.contains(\"^RT\"),\"is_retweet\"] = 1\n",
    "M3[\"is_retweet\"] = 0\n",
    "M3.loc[M3[\"Text\"].str.contains(\"^RT\"),\"is_retweet\"] = 1\n",
    "M4[\"is_retweet\"] = 0\n",
    "M4.loc[M4[\"Text\"].str.contains(\"^RT\"),\"is_retweet\"] = 1"
   ]
  },
  {
   "cell_type": "code",
   "execution_count": 80,
   "metadata": {},
   "outputs": [
    {
     "name": "stdout",
     "output_type": "stream",
     "text": [
      "WhyIMarch :-  (90288, 32)\n",
      "GrabYourWallet :-  (42403, 34)\n",
      "StopTheBan :-  (99343, 35)\n",
      "McStrike :-  (597065, 35)\n"
     ]
    }
   ],
   "source": [
    "print(\"WhyIMarch :- \",M1.shape)\n",
    "print(\"GrabYourWallet :- \",M2.shape)\n",
    "print(\"StopTheBan :- \",M3.shape)\n",
    "print(\"McStrike :- \",M4.shape)"
   ]
  },
  {
   "cell_type": "code",
   "execution_count": 6,
   "metadata": {},
   "outputs": [
    {
     "name": "stdout",
     "output_type": "stream",
     "text": [
      "{'Annotations', 'ReferenceText'} {'tweet_id', 'profile_image_url', 'statuses_count'} {'tweet_id', 'profile_image_url', 'statuses_count'}\n"
     ]
    }
   ],
   "source": [
    "print(set(list(M2.columns)).difference(set(list(M1.columns))),\\\n",
    "      set(list(M3.columns)).difference(set(list(M1.columns))),\\\n",
    "set(list(M4.columns)).difference(set(list(M1.columns))))"
   ]
  },
  {
   "cell_type": "markdown",
   "metadata": {},
   "source": [
    "### Get all unique users"
   ]
  },
  {
   "cell_type": "code",
   "execution_count": 95,
   "metadata": {},
   "outputs": [
    {
     "name": "stdout",
     "output_type": "stream",
     "text": [
      "Unique users in WhyIMarch :-  (70163, 2)\n",
      "Unique users in GrabYourWallet :-  (21607, 2)\n",
      "Unique users in StopTheBan :-  (56583, 2)\n",
      "Unique users in McStrike :-  (229369, 2)\n"
     ]
    }
   ],
   "source": [
    "M1_users = get_all_users(M1)\n",
    "print(\"Unique users in WhyIMarch :- \",M1_users.shape)\n",
    "M2_users = get_all_users(M2)\n",
    "print(\"Unique users in GrabYourWallet :- \",M2_users.shape)\n",
    "M3_users = get_all_users(M3)\n",
    "print(\"Unique users in StopTheBan :- \",M3_users.shape)\n",
    "M4_users = get_all_users(M4)\n",
    "print(\"Unique users in McStrike :- \",M4_users.shape)"
   ]
  },
  {
   "cell_type": "code",
   "execution_count": 96,
   "metadata": {},
   "outputs": [
    {
     "name": "stdout",
     "output_type": "stream",
     "text": [
      "Number of influencers_WM  :-  11484\n",
      "Number of influencers_GW  :-  3111\n",
      "Number of influencers_SB  :-  10478\n",
      "Number of influencers_MC  :-  27331\n",
      "\n",
      "\n",
      "Number of influencers_WM with description :-  10885\n",
      "Number of influencers_GW with description :-  2924\n",
      "Number of influencers_SB with description :-  10187\n",
      "Number of influencers_MC with description :-  26302\n"
     ]
    }
   ],
   "source": [
    "print(\"Number of influencers_WM  :- \",len(set(i_wm[\"name\"])))\n",
    "print(\"Number of influencers_GW  :- \",len(set(i_gw[\"name\"])))\n",
    "print(\"Number of influencers_SB  :- \",len(set(i_sb[\"name\"])))\n",
    "print(\"Number of influencers_MC  :- \",len(set(i_mc[\"name\"])))\n",
    "print(\"\\n\")\n",
    "print(\"Number of influencers_WM with description :- \",len(set(i_wm[\"name\"])&(set(M1_users[\"from_user\"]))))\n",
    "print(\"Number of influencers_GW with description :- \",len(set(i_gw[\"name\"])&(set(M2_users[\"from_user\"]))))\n",
    "print(\"Number of influencers_SB with description :- \",len(set(i_sb[\"name\"])&(set(M3_users[\"from_user\"]))))\n",
    "print(\"Number of influencers_MC with description :- \",len(set(i_mc[\"name\"])&(set(M4_users[\"from_user\"]))))"
   ]
  },
  {
   "cell_type": "code",
   "execution_count": 202,
   "metadata": {},
   "outputs": [
    {
     "data": {
      "text/plain": [
       "(50298, 52404)"
      ]
     },
     "execution_count": 202,
     "metadata": {},
     "output_type": "execute_result"
    }
   ],
   "source": [
    "10885 + 2924 + 10187 + 26302, 11484 + 3111 + 10478 + 27331"
   ]
  },
  {
   "cell_type": "markdown",
   "metadata": {},
   "source": [
    "### Take influencers data from every movement"
   ]
  },
  {
   "cell_type": "code",
   "execution_count": 97,
   "metadata": {},
   "outputs": [
    {
     "name": "stdout",
     "output_type": "stream",
     "text": [
      "(11484, 6) (3111, 6) (10478, 6) (27331, 6)\n"
     ]
    }
   ],
   "source": [
    "M1_users = pd.merge(i_wm,M1_users,right_on=\"from_user\",left_on=\"name\",how=\"left\")\n",
    "M2_users = pd.merge(i_gw,M2_users,right_on=\"from_user\",left_on=\"name\",how=\"left\")\n",
    "M3_users = pd.merge(i_sb,M3_users,right_on=\"from_user\",left_on=\"name\",how=\"left\")\n",
    "M4_users = pd.merge(i_mc,M4_users,right_on=\"from_user\",left_on=\"name\",how=\"left\")\n",
    "print(M1_users.shape,M2_users.shape,M3_users.shape,M4_users.shape)"
   ]
  },
  {
   "cell_type": "markdown",
   "metadata": {},
   "source": [
    "### Get latest followers count"
   ]
  },
  {
   "cell_type": "code",
   "execution_count": 98,
   "metadata": {},
   "outputs": [
    {
     "name": "stdout",
     "output_type": "stream",
     "text": [
      "(11484, 8) (3111, 8) (10478, 8) (27331, 8)\n"
     ]
    }
   ],
   "source": [
    "M1_users = pd.merge(M1_users,M1.loc[M1[\"from_user\"].isin(M1_users[\"from_user\"])].sort_values(\"created_at\").groupby(\"from_user\").last().reset_index()[[\"from_user\",\"created_at\",\"followers_count\"]],how=\"left\")\n",
    "M2_users = pd.merge(M2_users,M2.loc[M2[\"from_user\"].isin(M2_users[\"from_user\"])].sort_values(\"created_at\").groupby(\"from_user\").last().reset_index()[[\"from_user\",\"created_at\",\"followers_count\"]],how=\"left\")\n",
    "M3_users = pd.merge(M3_users,M3.loc[M3[\"from_user\"].isin(M3_users[\"from_user\"])].sort_values(\"created_at\").groupby(\"from_user\").last().reset_index()[[\"from_user\",\"created_at\",\"followers_count\"]],how=\"left\")\n",
    "M4_users = pd.merge(M4_users,M4.loc[M4[\"from_user\"].isin(M4_users[\"from_user\"])].sort_values(\"created_at\").groupby(\"from_user\").last().reset_index()[[\"from_user\",\"created_at\",\"followers_count\"]],how=\"left\")\n",
    "print(M1_users.shape,M2_users.shape,M3_users.shape,M4_users.shape)"
   ]
  },
  {
   "cell_type": "markdown",
   "metadata": {},
   "source": [
    "### Add category columns"
   ]
  },
  {
   "cell_type": "code",
   "execution_count": 99,
   "metadata": {},
   "outputs": [
    {
     "name": "stdout",
     "output_type": "stream",
     "text": [
      "(11484, 11) (3111, 11) (10478, 11) (27331, 11)\n"
     ]
    }
   ],
   "source": [
    "M1_users = M1_users.apply(add_category_columns,axis=1)\n",
    "M2_users = M2_users.apply(add_category_columns,axis=1)\n",
    "M3_users = M3_users.apply(add_category_columns,axis=1)\n",
    "M4_users = M4_users.apply(add_category_columns,axis=1)\n",
    "print(M1_users.shape,M2_users.shape,M3_users.shape,M4_users.shape)"
   ]
  },
  {
   "cell_type": "markdown",
   "metadata": {},
   "source": [
    "### Get number of times retweeted"
   ]
  },
  {
   "cell_type": "code",
   "execution_count": 137,
   "metadata": {},
   "outputs": [
    {
     "name": "stdout",
     "output_type": "stream",
     "text": [
      "(11484, 12) (3111, 12) (10478, 12) (27331, 12)\n"
     ]
    }
   ],
   "source": [
    "M1_users,M1_retweets = get_retweets(M1,M1_users)\n",
    "M2_users,M2_retweets = get_retweets(M2,M2_users)\n",
    "M3_users,M3_retweets = get_retweets(M3,M3_users)\n",
    "M4_users,M4_retweets = get_retweets(M4,M4_users)\n",
    "print(M1_users.shape,M2_users.shape,M3_users.shape,M4_users.shape)"
   ]
  },
  {
   "cell_type": "markdown",
   "metadata": {},
   "source": [
    "### Get number of times mentioned"
   ]
  },
  {
   "cell_type": "code",
   "execution_count": 138,
   "metadata": {},
   "outputs": [
    {
     "name": "stdout",
     "output_type": "stream",
     "text": [
      "(11484, 13) (3111, 13) (10478, 13) (27331, 13)\n"
     ]
    }
   ],
   "source": [
    "M1_users = get_mentions(M1,M1_users,M1_retweets)\n",
    "M2_users = get_mentions(M2,M2_users,M2_retweets)\n",
    "M3_users = get_mentions(M3,M3_users,M3_retweets)\n",
    "M4_users = get_mentions(M4,M4_users,M4_retweets)\n",
    "print(M1_users.shape,M2_users.shape,M3_users.shape,M4_users.shape)"
   ]
  },
  {
   "cell_type": "markdown",
   "metadata": {},
   "source": [
    "### Get tweets count"
   ]
  },
  {
   "cell_type": "code",
   "execution_count": 146,
   "metadata": {},
   "outputs": [
    {
     "name": "stdout",
     "output_type": "stream",
     "text": [
      "(11484, 14) (3111, 14) (10478, 14) (27331, 14)\n"
     ]
    }
   ],
   "source": [
    "M1_users = get_tweet_counts(M1,M1_users)\n",
    "M2_users = get_tweet_counts(M2,M2_users)\n",
    "M3_users = get_tweet_counts(M3,M3_users)\n",
    "M4_users = get_tweet_counts(M4,M4_users)\n",
    "print(M1_users.shape,M2_users.shape,M3_users.shape,M4_users.shape)"
   ]
  },
  {
   "cell_type": "code",
   "execution_count": 147,
   "metadata": {},
   "outputs": [],
   "source": [
    "M1_users.to_csv(\"./M1_users.csv\",index=False)\n",
    "M2_users.to_csv(\"./M2_users.csv\",index=False)\n",
    "M3_users.to_csv(\"./M3_users.csv\",index=False)\n",
    "M4_users.to_csv(\"./M4_users.csv\",index=False)"
   ]
  },
  {
   "cell_type": "markdown",
   "metadata": {},
   "source": [
    "### Get bio language"
   ]
  },
  {
   "cell_type": "code",
   "execution_count": 149,
   "metadata": {},
   "outputs": [
    {
     "name": "stdout",
     "output_type": "stream",
     "text": [
      "CPU times: user 8min 17s, sys: 2.72 s, total: 8min 20s\n",
      "Wall time: 8min 19s\n"
     ]
    }
   ],
   "source": [
    "%time M1_users = M1_users.apply(detect_bio_lang,axis=1)"
   ]
  },
  {
   "cell_type": "code",
   "execution_count": 150,
   "metadata": {},
   "outputs": [
    {
     "name": "stdout",
     "output_type": "stream",
     "text": [
      "CPU times: user 1min 49s, sys: 624 ms, total: 1min 50s\n",
      "Wall time: 1min 50s\n"
     ]
    }
   ],
   "source": [
    "%time M2_users = M2_users.apply(detect_bio_lang,axis=1)"
   ]
  },
  {
   "cell_type": "code",
   "execution_count": 151,
   "metadata": {},
   "outputs": [
    {
     "name": "stdout",
     "output_type": "stream",
     "text": [
      "CPU times: user 6min 51s, sys: 2.35 s, total: 6min 53s\n",
      "Wall time: 6min 53s\n"
     ]
    }
   ],
   "source": [
    "%time M3_users = M3_users.apply(detect_bio_lang,axis=1)"
   ]
  },
  {
   "cell_type": "code",
   "execution_count": 152,
   "metadata": {},
   "outputs": [
    {
     "name": "stdout",
     "output_type": "stream",
     "text": [
      "CPU times: user 17min 50s, sys: 6.8 s, total: 17min 57s\n",
      "Wall time: 17min 57s\n"
     ]
    }
   ],
   "source": [
    "%time M4_users = M4_users.apply(detect_bio_lang,axis=1)"
   ]
  },
  {
   "cell_type": "code",
   "execution_count": 154,
   "metadata": {},
   "outputs": [
    {
     "name": "stdout",
     "output_type": "stream",
     "text": [
      "(11484, 15) (3111, 15) (10478, 15) (27331, 15)\n"
     ]
    }
   ],
   "source": [
    "print(M1_users.shape,M2_users.shape,M3_users.shape,M4_users.shape)"
   ]
  },
  {
   "cell_type": "code",
   "execution_count": 9,
   "metadata": {},
   "outputs": [],
   "source": [
    "def cleanText(text):\n",
    "    if len(text) > 2 or text is not np.nan:\n",
    "        text = re.sub('RT[\\s]+', '', text)                # Removing RT\n",
    "        text = re.sub('@[A-Za-z0–9]+', '', text)          # Removing @mentions\n",
    "        text = re.sub('#', '', text)                      # Removing '#' hash tag\n",
    "        text = re.sub('https?:\\/\\/\\S+', '', text)         # Removing hyperlink\n",
    "        for i in text:\n",
    "            if i not in string.printable[0:62]:\n",
    "                text = text.replace(i,\" \")\n",
    "    return text"
   ]
  },
  {
   "cell_type": "code",
   "execution_count": 46,
   "metadata": {},
   "outputs": [],
   "source": [
    "def get_tweet_sentiment(tweet):\n",
    "    try:\n",
    "        analysis = TextBlob(cleanText(tweet)) \n",
    "        # set sentiment \n",
    "        if analysis.sentiment.polarity > 0: \n",
    "            return 'positive'\n",
    "        elif analysis.sentiment.polarity == 0: \n",
    "            return 'neutral'\n",
    "        else: \n",
    "            return 'negative'\n",
    "    except Exception as e:\n",
    "        print(e)\n",
    "        return \"NA\"\n"
   ]
  },
  {
   "cell_type": "code",
   "execution_count": 47,
   "metadata": {},
   "outputs": [],
   "source": [
    "sample = shuffle(M1).head()"
   ]
  },
  {
   "cell_type": "code",
   "execution_count": 48,
   "metadata": {},
   "outputs": [
    {
     "name": "stdout",
     "output_type": "stream",
     "text": [
      "CPU times: user 33.3 s, sys: 94.2 ms, total: 33.4 s\n",
      "Wall time: 33.4 s\n"
     ]
    }
   ],
   "source": [
    "%time M1[\"tweet_sentiment\"] = M1.apply(lambda s : get_tweet_sentiment(s[\"Text\"]),axis = 1)"
   ]
  },
  {
   "cell_type": "code",
   "execution_count": 49,
   "metadata": {},
   "outputs": [
    {
     "name": "stdout",
     "output_type": "stream",
     "text": [
      "CPU times: user 16.9 s, sys: 9.08 ms, total: 16.9 s\n",
      "Wall time: 16.9 s\n"
     ]
    }
   ],
   "source": [
    "%time M2[\"tweet_sentiment\"] = M2.apply(lambda s : get_tweet_sentiment(s[\"Text\"]),axis = 1)"
   ]
  },
  {
   "cell_type": "code",
   "execution_count": 50,
   "metadata": {},
   "outputs": [
    {
     "name": "stdout",
     "output_type": "stream",
     "text": [
      "CPU times: user 43 s, sys: 8.71 ms, total: 43 s\n",
      "Wall time: 43 s\n"
     ]
    }
   ],
   "source": [
    "%time M3[\"tweet_sentiment\"] = M3.apply(lambda s : get_tweet_sentiment(s[\"Text\"]),axis = 1)"
   ]
  },
  {
   "cell_type": "code",
   "execution_count": 51,
   "metadata": {},
   "outputs": [
    {
     "name": "stdout",
     "output_type": "stream",
     "text": [
      "CPU times: user 4min 11s, sys: 329 ms, total: 4min 11s\n",
      "Wall time: 4min 11s\n"
     ]
    }
   ],
   "source": [
    "%time M4[\"tweet_sentiment\"] = M4.apply(lambda s : get_tweet_sentiment(s[\"Text\"]),axis = 1)"
   ]
  },
  {
   "cell_type": "code",
   "execution_count": 52,
   "metadata": {},
   "outputs": [
    {
     "name": "stdout",
     "output_type": "stream",
     "text": [
      "neutral     50146\n",
      "positive    27706\n",
      "negative    12436\n",
      "Name: tweet_sentiment, dtype: int64\n",
      "neutral     25800\n",
      "positive    13107\n",
      "negative     3496\n",
      "Name: tweet_sentiment, dtype: int64\n",
      "positive    43820\n",
      "neutral     42070\n",
      "negative    13453\n",
      "Name: tweet_sentiment, dtype: int64\n",
      "neutral     313824\n",
      "positive    209872\n",
      "negative     73369\n",
      "Name: tweet_sentiment, dtype: int64\n"
     ]
    }
   ],
   "source": [
    "print(M1[\"tweet_sentiment\"].value_counts())\n",
    "print(M2[\"tweet_sentiment\"].value_counts())\n",
    "print(M3[\"tweet_sentiment\"].value_counts())\n",
    "print(M4[\"tweet_sentiment\"].value_counts())"
   ]
  },
  {
   "cell_type": "code",
   "execution_count": 62,
   "metadata": {},
   "outputs": [],
   "source": [
    "M1_sentiment = pd.pivot_table(M1[[\"from_user\",\"tweet_sentiment\"]],index = \"from_user\", columns = \"tweet_sentiment\", aggfunc=len).fillna(0)\n",
    "M2_sentiment = pd.pivot_table(M2[[\"from_user\",\"tweet_sentiment\"]],index = \"from_user\", columns = \"tweet_sentiment\", aggfunc=len).fillna(0)\n",
    "M3_sentiment = pd.pivot_table(M3[[\"from_user\",\"tweet_sentiment\"]],index = \"from_user\", columns = \"tweet_sentiment\", aggfunc=len).fillna(0)\n",
    "M4_sentiment = pd.pivot_table(M4[[\"from_user\",\"tweet_sentiment\"]],index = \"from_user\", columns = \"tweet_sentiment\", aggfunc=len).fillna(0)"
   ]
  },
  {
   "cell_type": "code",
   "execution_count": 65,
   "metadata": {},
   "outputs": [
    {
     "name": "stdout",
     "output_type": "stream",
     "text": [
      "(11484, 18) (3111, 18) (10478, 18) (27331, 18)\n"
     ]
    }
   ],
   "source": [
    "M1_users = pd.merge(M1_users,M1_sentiment,left_on=\"from_user\",right_on=\"from_user\",how=\"left\")\n",
    "M2_users = pd.merge(M2_users,M2_sentiment,left_on=\"from_user\",right_on=\"from_user\",how=\"left\")\n",
    "M3_users = pd.merge(M3_users,M3_sentiment,left_on=\"from_user\",right_on=\"from_user\",how=\"left\")\n",
    "M4_users = pd.merge(M4_users,M4_sentiment,left_on=\"from_user\",right_on=\"from_user\",how=\"left\")\n",
    "print(M1_users.shape,M2_users.shape,M3_users.shape,M4_users.shape)"
   ]
  },
  {
   "cell_type": "code",
   "execution_count": 120,
   "metadata": {
    "scrolled": true
   },
   "outputs": [
    {
     "data": {
      "text/plain": [
       "Index(['bio_language', 'community', 'created_at', 'followers_count',\n",
       "       'from_user', 'is_art', 'is_education', 'is_feminist', 'is_media',\n",
       "       'is_politics', 'is_sports', 'macro_micro', 'mention_count',\n",
       "       'movement_in', 'name', 'negative', 'neutral', 'positive',\n",
       "       'retweet_count', 'tweets_count', 'user_description'],\n",
       "      dtype='object')"
      ]
     },
     "execution_count": 120,
     "metadata": {},
     "output_type": "execute_result"
    }
   ],
   "source": [
    "M1_users.columns"
   ]
  },
  {
   "cell_type": "markdown",
   "metadata": {},
   "source": [
    "### Tweet content count"
   ]
  },
  {
   "cell_type": "code",
   "execution_count": 84,
   "metadata": {},
   "outputs": [
    {
     "name": "stdout",
     "output_type": "stream",
     "text": [
      "CPU times: user 19.3 s, sys: 136 ms, total: 19.4 s\n",
      "Wall time: 19.4 s\n"
     ]
    }
   ],
   "source": [
    "%time M1 = M1.apply(add_category_columns_tweets,axis=1)"
   ]
  },
  {
   "cell_type": "code",
   "execution_count": 85,
   "metadata": {},
   "outputs": [
    {
     "name": "stdout",
     "output_type": "stream",
     "text": [
      "CPU times: user 9.82 s, sys: 43.9 ms, total: 9.87 s\n",
      "Wall time: 9.87 s\n"
     ]
    }
   ],
   "source": [
    "%time M2 = M2.apply(add_category_columns_tweets,axis=1)"
   ]
  },
  {
   "cell_type": "code",
   "execution_count": 86,
   "metadata": {},
   "outputs": [
    {
     "name": "stdout",
     "output_type": "stream",
     "text": [
      "CPU times: user 21.8 s, sys: 120 ms, total: 21.9 s\n",
      "Wall time: 21.9 s\n"
     ]
    }
   ],
   "source": [
    "%time M3 = M3.apply(add_category_columns_tweets,axis=1)"
   ]
  },
  {
   "cell_type": "code",
   "execution_count": 87,
   "metadata": {},
   "outputs": [
    {
     "name": "stdout",
     "output_type": "stream",
     "text": [
      "CPU times: user 46min 14s, sys: 4.61 s, total: 46min 18s\n",
      "Wall time: 46min 19s\n",
      "(90288, 38) (42403, 40) (99343, 41) (597065, 41)\n"
     ]
    }
   ],
   "source": [
    "%time M4 = M4.apply(add_category_columns_tweets,axis=1)\n",
    "print(M1.shape,M2.shape,M3.shape,M4.shape)"
   ]
  },
  {
   "cell_type": "code",
   "execution_count": 134,
   "metadata": {},
   "outputs": [],
   "source": [
    "tweet_content_M1 = pd.DataFrame(M1[[\"from_user\",\"is_education\",\"is_media\",\"is_politics\"]].groupby(\"from_user\").sum().reset_index())\n",
    "tweet_content_M1 = tweet_content_M1.rename(columns={\"is_education\": \"education_content_count\", \"is_media\": \"media_content_count\",\"is_politics\":\"politics_content_count\"})\n",
    "tweet_content_M2 = pd.DataFrame(M2[[\"from_user\",\"is_education\",\"is_media\",\"is_politics\"]].groupby(\"from_user\").sum().reset_index())\n",
    "tweet_content_M2 = tweet_content_M2.rename(columns={\"is_education\": \"education_content_count\", \"is_media\": \"media_content_count\",\"is_politics\":\"politics_content_count\"})\n",
    "tweet_content_M3 = pd.DataFrame(M3[[\"from_user\",\"is_education\",\"is_media\",\"is_politics\"]].groupby(\"from_user\").sum().reset_index())\n",
    "tweet_content_M3 = tweet_content_M3.rename(columns={\"is_education\": \"education_content_count\", \"is_media\": \"media_content_count\",\"is_politics\":\"politics_content_count\"})\n",
    "tweet_content_M4 = pd.DataFrame(M4[[\"from_user\",\"is_education\",\"is_media\",\"is_politics\"]].groupby(\"from_user\").sum().reset_index())\n",
    "tweet_content_M4 = tweet_content_M4.rename(columns={\"is_education\": \"education_content_count\", \"is_media\": \"media_content_count\",\"is_politics\":\"politics_content_count\"})\n",
    "\n",
    "M1_users = pd.merge(tweet_content_M1,M1_users,left_on=\"from_user\",right_on=\"from_user\",how=\"right\")\n",
    "M2_users = pd.merge(tweet_content_M2,M2_users,left_on=\"from_user\",right_on=\"from_user\",how=\"right\")\n",
    "M3_users = pd.merge(tweet_content_M3,M3_users,left_on=\"from_user\",right_on=\"from_user\",how=\"right\")\n",
    "M4_users = pd.merge(tweet_content_M4,M4_users,left_on=\"from_user\",right_on=\"from_user\",how=\"right\")\n",
    "print(M1_users.shape,M2_users.shape,M3_users.shape,M4_users.shape)"
   ]
  },
  {
   "cell_type": "code",
   "execution_count": null,
   "metadata": {},
   "outputs": [],
   "source": [
    "sns.heatmap(M1_users.corr())"
   ]
  },
  {
   "cell_type": "code",
   "execution_count": null,
   "metadata": {},
   "outputs": [],
   "source": [
    "sns.heatmap(M2_users.corr())"
   ]
  },
  {
   "cell_type": "code",
   "execution_count": null,
   "metadata": {},
   "outputs": [],
   "source": [
    "sns.heatmap(M3_users.corr())"
   ]
  },
  {
   "cell_type": "code",
   "execution_count": null,
   "metadata": {},
   "outputs": [],
   "source": [
    "sns.heatmap(M4_users.corr())"
   ]
  },
  {
   "cell_type": "code",
   "execution_count": null,
   "metadata": {},
   "outputs": [],
   "source": [
    "M1_users.groupby(['macro_micro','is_education']).size().reset_index().pivot_table(columns='is_education', index='macro_micro', values=0).plot(kind = 'bar',stacked = True),"
   ]
  },
  {
   "cell_type": "code",
   "execution_count": null,
   "metadata": {},
   "outputs": [],
   "source": [
    "M1_users.groupby(['macro_micro','is_education','is_media','is_politics','is_art','is_sports','is_feminist']).size().reset_index()"
   ]
  },
  {
   "cell_type": "code",
   "execution_count": 72,
   "metadata": {},
   "outputs": [
    {
     "data": {
      "text/plain": [
       "Index(['from_user', 'education_content_count', 'media_content_count',\n",
       "       'politics_content_count', 'bio_language', 'community', 'created_at',\n",
       "       'followers_count', 'is_art', 'is_education', 'is_feminist', 'is_media',\n",
       "       'is_politics', 'is_sports', 'macro_micro', 'mention_count',\n",
       "       'movement_in', 'name', 'negative', 'neutral', 'positive',\n",
       "       'retweet_count', 'tweets_count', 'user_description'],\n",
       "      dtype='object')"
      ]
     },
     "execution_count": 72,
     "metadata": {},
     "output_type": "execute_result"
    }
   ],
   "source": [
    "M1_users.columns"
   ]
  },
  {
   "cell_type": "code",
   "execution_count": null,
   "metadata": {},
   "outputs": [],
   "source": []
  },
  {
   "cell_type": "code",
   "execution_count": 76,
   "metadata": {},
   "outputs": [],
   "source": [
    "M1_final_users = transform_columns(M1_users)\n",
    "M2_final_users = transform_columns(M1_users)\n",
    "M3_final_users = transform_columns(M3_users)\n",
    "M4_final_users = transform_columns(M4_users)"
   ]
  },
  {
   "cell_type": "code",
   "execution_count": 77,
   "metadata": {},
   "outputs": [
    {
     "name": "stdout",
     "output_type": "stream",
     "text": [
      "dropping 'negative' at index: 14\n",
      "dropping 'tweets_count' at index: 17\n",
      "Remaining variables:\n",
      "Index(['education_content_count', 'media_content_count',\n",
      "       'politics_content_count', 'bio_language', 'community',\n",
      "       'followers_count', 'is_art', 'is_education', 'is_feminist', 'is_media',\n",
      "       'is_politics', 'is_sports', 'macro_micro', 'mention_count', 'neutral',\n",
      "       'positive', 'retweet_count'],\n",
      "      dtype='object')\n",
      "dropping 'negative' at index: 14\n",
      "dropping 'tweets_count' at index: 17\n",
      "Remaining variables:\n",
      "Index(['education_content_count', 'media_content_count',\n",
      "       'politics_content_count', 'bio_language', 'community',\n",
      "       'followers_count', 'is_art', 'is_education', 'is_feminist', 'is_media',\n",
      "       'is_politics', 'is_sports', 'macro_micro', 'mention_count', 'neutral',\n",
      "       'positive', 'retweet_count'],\n",
      "      dtype='object')\n",
      "dropping 'negative' at index: 14\n",
      "dropping 'tweets_count' at index: 17\n",
      "Remaining variables:\n",
      "Index(['education_content_count', 'media_content_count',\n",
      "       'politics_content_count', 'bio_language', 'community',\n",
      "       'followers_count', 'is_art', 'is_education', 'is_feminist', 'is_media',\n",
      "       'is_politics', 'is_sports', 'macro_micro', 'mention_count', 'neutral',\n",
      "       'positive', 'retweet_count'],\n",
      "      dtype='object')\n",
      "dropping 'negative' at index: 14\n",
      "dropping 'tweets_count' at index: 17\n",
      "Remaining variables:\n",
      "Index(['education_content_count', 'media_content_count',\n",
      "       'politics_content_count', 'bio_language', 'community',\n",
      "       'followers_count', 'is_art', 'is_education', 'is_feminist', 'is_media',\n",
      "       'is_politics', 'is_sports', 'macro_micro', 'mention_count', 'neutral',\n",
      "       'positive', 'retweet_count'],\n",
      "      dtype='object')\n"
     ]
    }
   ],
   "source": [
    "M1_f = calculate_vif_(M1_final_users)\n",
    "M2_f = calculate_vif_(M2_final_users)\n",
    "M3_f = calculate_vif_(M3_final_users)\n",
    "M4_f = calculate_vif_(M4_final_users)"
   ]
  },
  {
   "cell_type": "code",
   "execution_count": 78,
   "metadata": {},
   "outputs": [
    {
     "name": "stdout",
     "output_type": "stream",
     "text": [
      "42124.942231949535 0.0\n",
      "42124.942231949535 0.0\n",
      "24535.493186265394 0.0\n",
      "100899.73664962902 0.0\n"
     ]
    }
   ],
   "source": [
    "# Bartlett’s test of sphericity checks whether or not the observed variables \n",
    "# intercorrelate at all using the observed correlation matrix against the identity matrix. \n",
    "# If the test found statistically insignificant, you should not employ a factor analysis.\n",
    "from factor_analyzer import factor_analyzer\n",
    "\n",
    "chi_square_value_M1,p_value_M1 = factor_analyzer.calculate_bartlett_sphericity(M1_f)\n",
    "print(chi_square_value_M1,p_value_M1)\n",
    "chi_square_value_M2,p_value_M2 = factor_analyzer.calculate_bartlett_sphericity(M2_f)\n",
    "print(chi_square_value_M2,p_value_M2)\n",
    "chi_square_value_M3,p_value_M3 = factor_analyzer.calculate_bartlett_sphericity(M3_f)\n",
    "print(chi_square_value_M3,p_value_M3)\n",
    "chi_square_value_M4,p_value_M4 = factor_analyzer.calculate_bartlett_sphericity(M4_f)\n",
    "print(chi_square_value_M4,p_value_M4)"
   ]
  },
  {
   "cell_type": "code",
   "execution_count": 79,
   "metadata": {},
   "outputs": [
    {
     "name": "stdout",
     "output_type": "stream",
     "text": [
      "0.6740137792926608\n",
      "0.6740137792926608\n",
      "0.6817274547081452\n",
      "0.62956003657593\n"
     ]
    }
   ],
   "source": [
    "# Kaiser-Meyer-Olkin (KMO) Test measures the suitability of data for factor analysis. \n",
    "# It determines the adequacy for each observed variable and for the complete model. \n",
    "# KMO estimates the proportion of variance among all the observed variable. \n",
    "# Lower proportion id more suitable for factor analysis. \n",
    "# KMO values range between 0 and 1. \n",
    "# Value of KMO less than 0.6 is considered inadequate.\n",
    "\n",
    "from factor_analyzer.factor_analyzer import calculate_kmo\n",
    "kmo_all_M1,kmo_model_M1 = calculate_kmo(M1_f)\n",
    "print(kmo_model_M1)\n",
    "kmo_all_M2,kmo_model_M2 = calculate_kmo(M2_f)\n",
    "print(kmo_model_M2)\n",
    "kmo_all_M3,kmo_model_M3 = calculate_kmo(M3_f)\n",
    "print(kmo_model_M3)\n",
    "kmo_all_M4,kmo_model_M4 = calculate_kmo(M4_f)\n",
    "print(kmo_model_M4)"
   ]
  },
  {
   "cell_type": "code",
   "execution_count": 82,
   "metadata": {},
   "outputs": [],
   "source": [
    "def factor_analysis(df):\n",
    "    # Create factor analysis object and perform factor analysis\n",
    "    # Kaiser test choose features with eigenvalues greater than 1\n",
    "    fa = FactorAnalyzer()\n",
    "    fa.fit(df)\n",
    "    eigen_values, vectors = fa.get_eigenvalues()\n",
    "    plt.scatter(range(1,df.shape[1]+1),eigen_values)\n",
    "    plt.plot(range(1,df.shape[1]+1),eigen_values)\n",
    "    plt.title('Scree Plot')\n",
    "    plt.xlabel('Factors')\n",
    "    plt.ylabel('Eigenvalue')\n",
    "    plt.grid()\n",
    "    plt.show()\n",
    "    \n",
    "    fa = FactorAnalyzer()\n",
    "    fa.set_params(n_factors = 4, rotation = \"varimax\")\n",
    "    fa.fit(df)\n",
    "    loadings = fa.loadings_\n",
    "    print(fa.get_factor_variance())\n",
    "    return pd.DataFrame(loadings)"
   ]
  },
  {
   "cell_type": "code",
   "execution_count": 83,
   "metadata": {
    "scrolled": false
   },
   "outputs": [
    {
     "data": {
      "image/png": "[encoded data removed]",
      "text/plain": [
       "<Figure size 432x288 with 1 Axes>"
      ]
     },
     "metadata": {
      "needs_background": "light"
     },
     "output_type": "display_data"
    },
    {
     "name": "stdout",
     "output_type": "stream",
     "text": [
      "(array([2.550825  , 1.55612251, 1.25095126, 0.80556493]), array([0.15004853, 0.09153662, 0.07358537, 0.04738617]), array([0.15004853, 0.24158515, 0.31517052, 0.36255669]))\n",
      "           0         1         2         3\n",
      "0   0.476301  0.030898  0.000802  0.031291\n",
      "1   0.649011 -0.011698  0.001111  0.029661\n",
      "2   0.429552  0.006222  0.001537  0.031000\n",
      "3   0.007273 -0.106739 -0.015584  0.073587\n",
      "4   0.054000  0.952001 -0.011555  0.114967\n",
      "5   0.001799  0.010840  0.505295 -0.004755\n",
      "6   0.013021  0.012469  0.002894  0.293650\n",
      "7   0.026117  0.044158  0.003921  0.292491\n",
      "8   0.004322  0.003533 -0.002467  0.158262\n",
      "9   0.014092 -0.016961  0.003943  0.626874\n",
      "10  0.007007  0.005979  0.002175  0.404455\n",
      "11 -0.002229 -0.015798 -0.004282  0.119438\n",
      "12  0.075125  0.795754 -0.009111  0.127713\n",
      "13  0.034019  0.025992 -0.000251 -0.001694\n",
      "14  0.957966  0.012918  0.001750 -0.007229\n",
      "15  0.888614  0.016701  0.000055  0.008430\n",
      "16  0.001602  0.011768  0.997544 -0.002228\n"
     ]
    },
    {
     "data": {
      "image/png": "[encoded data removed]",
      "text/plain": [
       "<Figure size 432x288 with 1 Axes>"
      ]
     },
     "metadata": {
      "needs_background": "light"
     },
     "output_type": "display_data"
    },
    {
     "name": "stdout",
     "output_type": "stream",
     "text": [
      "(array([2.550825  , 1.55612251, 1.25095126, 0.80556493]), array([0.15004853, 0.09153662, 0.07358537, 0.04738617]), array([0.15004853, 0.24158515, 0.31517052, 0.36255669]))\n",
      "           0         1         2         3\n",
      "0   0.476301  0.030898  0.000802  0.031291\n",
      "1   0.649011 -0.011698  0.001111  0.029661\n",
      "2   0.429552  0.006222  0.001537  0.031000\n",
      "3   0.007273 -0.106739 -0.015584  0.073587\n",
      "4   0.054000  0.952001 -0.011555  0.114967\n",
      "5   0.001799  0.010840  0.505295 -0.004755\n",
      "6   0.013021  0.012469  0.002894  0.293650\n",
      "7   0.026117  0.044158  0.003921  0.292491\n",
      "8   0.004322  0.003533 -0.002467  0.158262\n",
      "9   0.014092 -0.016961  0.003943  0.626874\n",
      "10  0.007007  0.005979  0.002175  0.404455\n",
      "11 -0.002229 -0.015798 -0.004282  0.119438\n",
      "12  0.075125  0.795754 -0.009111  0.127713\n",
      "13  0.034019  0.025992 -0.000251 -0.001694\n",
      "14  0.957966  0.012918  0.001750 -0.007229\n",
      "15  0.888614  0.016701  0.000055  0.008430\n",
      "16  0.001602  0.011768  0.997544 -0.002228\n"
     ]
    },
    {
     "data": {
      "image/png": "[encoded data removed]",
      "text/plain": [
       "<Figure size 432x288 with 1 Axes>"
      ]
     },
     "metadata": {
      "needs_background": "light"
     },
     "output_type": "display_data"
    },
    {
     "name": "stdout",
     "output_type": "stream",
     "text": [
      "(array([2.32820143, 1.31875641, 0.92769309, 0.43254249]), array([0.13695303, 0.07757391, 0.05457018, 0.02544368]), array([0.13695303, 0.21452693, 0.26909711, 0.29454079]))\n",
      "           0         1         2         3\n",
      "0   0.513639  0.037870  0.063497 -0.257376\n",
      "1   0.519819  0.112688  0.077062 -0.525948\n",
      "2   0.486103 -0.012309  0.008956  0.028278\n",
      "3   0.016860 -0.026306  0.134871  0.012838\n",
      "4   0.020777  0.984955  0.018067  0.158703\n",
      "5   0.022155  0.025553  0.030341  0.063437\n",
      "6  -0.014516 -0.001700  0.258117  0.020102\n",
      "7   0.007686 -0.007784  0.209359  0.008321\n",
      "8   0.057000  0.009455  0.069366  0.002513\n",
      "9  -0.000959  0.002826  0.723785  0.063377\n",
      "10  0.032974  0.006940  0.492136  0.070753\n",
      "11 -0.014751  0.033840  0.125671  0.035494\n",
      "12 -0.033191  0.574749 -0.025215  0.029969\n",
      "13  0.004778  0.003335  0.006956  0.015851\n",
      "14  0.803816 -0.019901  0.016400  0.062996\n",
      "15  0.916914 -0.023580 -0.009621  0.184369\n",
      "16  0.252708 -0.018329 -0.006092  0.098141\n"
     ]
    },
    {
     "data": {
      "image/png": "[encoded data removed]",
      "text/plain": [
       "<Figure size 432x288 with 1 Axes>"
      ]
     },
     "metadata": {
      "needs_background": "light"
     },
     "output_type": "display_data"
    },
    {
     "name": "stdout",
     "output_type": "stream",
     "text": [
      "(array([2.15462334, 1.67000609, 1.4503803 , 0.83594897]), array([0.12674255, 0.09823565, 0.08531649, 0.04917347]), array([0.12674255, 0.2249782 , 0.31029469, 0.35946816]))\n",
      "           0         1         2         3\n",
      "0   0.744555  0.025268 -0.012685 -0.006887\n",
      "1   0.281547  0.795826  0.007112 -0.011534\n",
      "2   0.019637  0.977318  0.002078 -0.004406\n",
      "3   0.010819 -0.000244  0.119296  0.045119\n",
      "4   0.009363  0.006847  0.672598  0.003634\n",
      "5   0.004827 -0.001406  0.028337  0.073872\n",
      "6   0.002531  0.000563  0.001723  0.262451\n",
      "7   0.015696 -0.007280 -0.007999  0.217880\n",
      "8   0.015605 -0.004107  0.001953  0.101002\n",
      "9   0.019928  0.026248  0.056002  0.697503\n",
      "10  0.009354  0.004256  0.001233  0.423158\n",
      "11 -0.003592 -0.000852 -0.005484  0.124596\n",
      "12 -0.001711  0.002860  0.988800 -0.134821\n",
      "13  0.019569 -0.000319  0.006687  0.010066\n",
      "14  0.810600  0.256185  0.010648 -0.045561\n",
      "15  0.917605  0.120050 -0.040260 -0.012164\n",
      "16  0.141164  0.000926  0.000682  0.009503\n"
     ]
    }
   ],
   "source": [
    "M1_loadings = factor_analysis(M1_f)\n",
    "print(M1_loadings)\n",
    "M2_loadings = factor_analysis(M2_f)\n",
    "print(M2_loadings)\n",
    "M3_loadings = factor_analysis(M3_f)\n",
    "print(M3_loadings)\n",
    "M4_loadings = factor_analysis(M4_f)\n",
    "print(M4_loadings)"
   ]
  },
  {
   "cell_type": "code",
   "execution_count": null,
   "metadata": {},
   "outputs": [],
   "source": []
  },
  {
   "cell_type": "code",
   "execution_count": null,
   "metadata": {},
   "outputs": [],
   "source": []
  },
  {
   "cell_type": "code",
   "execution_count": null,
   "metadata": {},
   "outputs": [],
   "source": []
  },
  {
   "cell_type": "code",
   "execution_count": null,
   "metadata": {},
   "outputs": [],
   "source": []
  },
  {
   "cell_type": "code",
   "execution_count": null,
   "metadata": {},
   "outputs": [],
   "source": []
  },
  {
   "cell_type": "code",
   "execution_count": null,
   "metadata": {},
   "outputs": [],
   "source": []
  },
  {
   "cell_type": "code",
   "execution_count": null,
   "metadata": {},
   "outputs": [],
   "source": []
  },
  {
   "cell_type": "code",
   "execution_count": null,
   "metadata": {},
   "outputs": [],
   "source": []
  },
  {
   "cell_type": "code",
   "execution_count": null,
   "metadata": {},
   "outputs": [],
   "source": []
  },
  {
   "cell_type": "code",
   "execution_count": null,
   "metadata": {},
   "outputs": [],
   "source": []
  },
  {
   "cell_type": "code",
   "execution_count": null,
   "metadata": {},
   "outputs": [],
   "source": []
  },
  {
   "cell_type": "code",
   "execution_count": 66,
   "metadata": {},
   "outputs": [],
   "source": [
    "M1_users = pd.read_csv(\"./M1_users.csv\")\n",
    "M2_users = pd.read_csv(\"./M2_users.csv\")\n",
    "M3_users = pd.read_csv(\"./M3_users.csv\")\n",
    "M4_users = pd.read_csv(\"./M4_users.csv\")"
   ]
  },
  {
   "cell_type": "code",
   "execution_count": 33,
   "metadata": {},
   "outputs": [],
   "source": [
    "# Recovery code\n",
    "M1_final_users = pd.read_csv(\"./M1_f.csv\")\n",
    "M2_final_users = pd.read_csv(\"./M2_f.csv\")\n",
    "M3_final_users = pd.read_csv(\"./M3_f.csv\")\n",
    "M4_final_users = pd.read_csv(\"./M4_f.csv\")"
   ]
  },
  {
   "cell_type": "code",
   "execution_count": 161,
   "metadata": {},
   "outputs": [],
   "source": [
    "M1_users.to_csv(\"./M1_users.csv\",index=False)\n",
    "M2_users.to_csv(\"./M2_users.csv\",index=False)\n",
    "M3_users.to_csv(\"./M3_users.csv\",index=False)\n",
    "M4_users.to_csv(\"./M4_users.csv\",index=False)"
   ]
  },
  {
   "cell_type": "code",
   "execution_count": 159,
   "metadata": {},
   "outputs": [],
   "source": [
    "M1_final_users.to_csv(\"./M1_f.csv\",index=False)\n",
    "M2_final_users.to_csv(\"./M2_f.csv\",index=False)\n",
    "M3_final_users.to_csv(\"./M3_f.csv\",index=False)\n",
    "M4_final_users.to_csv(\"./M4_f.csv\",index=False)"
   ]
  }
 ],
 "metadata": {
  "kernelspec": {
   "display_name": "Python 3",
   "language": "python",
   "name": "python3"
  },
  "language_info": {
   "codemirror_mode": {
    "name": "ipython",
    "version": 3
   },
   "file_extension": ".py",
   "mimetype": "text/x-python",
   "name": "python",
   "nbconvert_exporter": "python",
   "pygments_lexer": "ipython3",
   "version": "3.6.9"
  }
 },
 "nbformat": 4,
 "nbformat_minor": 2
}
