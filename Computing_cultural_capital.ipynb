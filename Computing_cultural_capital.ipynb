{
 "cells": [
  {
   "cell_type": "code",
   "execution_count": 1,
   "metadata": {},
   "outputs": [],
   "source": [
    "import numpy as np\n",
    "import pandas as pd\n",
    "import glob\n",
    "import matplotlib.pyplot as plt\n",
    "import seaborn as sns\n",
    "%matplotlib inline\n",
    "import warnings\n",
    "import wordcloud\n",
    "import string\n",
    "import validators\n",
    "import re\n",
    "import string\n",
    "import nltk\n",
    "import langdetect\n",
    "from textblob import TextBlob\n",
    "from collections import Counter\n",
    "from sklearn.utils import shuffle\n",
    "from sklearn.model_selection import cross_val_score\n",
    "from sklearn.feature_extraction.text import CountVectorizer\n",
    "from sklearn.decomposition import FactorAnalysis\n",
    "from sklearn.preprocessing import LabelEncoder\n",
    "from statsmodels.stats.outliers_influence import variance_inflation_factor  \n",
    "from factor_analyzer.factor_analyzer import FactorAnalyzer\n",
    "import seaborn as sns\n",
    "warnings.filterwarnings(\"ignore\")\n",
    "pd.options.display.max_columns = 100"
   ]
  },
  {
   "cell_type": "markdown",
   "metadata": {},
   "source": [
    "### All Functions"
   ]
  },
  {
   "cell_type": "code",
   "execution_count": 4,
   "metadata": {},
   "outputs": [],
   "source": [
    "categories = {\"is_media\":[\"media\",\"politics\",\"journalism\",\"journalist\",\"news\",\"reporter\",\"blogger\",\"youtube\",\\\n",
    "                          \"writer\",\"youtuber\",\"communication\",\"radio\",\"internet\",\"film\",\"television\"],  \n",
    "             \"is_education\":[\"educationist\",\"teacher\",\"professor\",\"tutor\",\"pedagogue\",\"scientist\",\"instructor\", \n",
    "                             \"coach\",\"trainer\",\"lecturer\",\"academic\",\"counselor\",\"phd\",\"educator\",\"scholar\",\n",
    "                             \"teaching\",\"philosopher\",\"consultant\",\"physician\",\"doctor\",\"education\",\"science\",\n",
    "                             \"archaeologist\",\"archaeology\",\"graduate\",\"student\",\"advocate\",\"lawyer\",\"computer\",\n",
    "                             \"philanthropist\",\"engineer\",\"engineering\",\"editor\",\"college\",\"university\",\"author\",\n",
    "                            \"programming\",\"programmer\",\"doctorate\"], \n",
    "             \"is_politics\":[\"politician\",\"politics\",\"senator\",\"congress\",\"political\",\"archivist\",\"legislatures\",\n",
    "                           \"ideology\",\"ideologist\"],\n",
    "             \"is_art\":[\"literature\",\"art\",\"artist\",\"actor\",\"music\",\"dance\",\"history\",\"theatre\",\"drama\",\"producer\",\n",
    "                       \"director\",\"architect\",\"actress\",\"musician\",\"dancer\",\"design\",\"photographer\",\"storyteller\",\n",
    "                       \"poet\",\"decorator\",\"improvisor\",\"culture\",\"humorist\"],\n",
    "             \"is_sports\":[\"sports\",\"cricket\",\"tennis\",\"football\",\"basketball\",\"volleyball\",\"cyclist\"],\n",
    "             \"is_feminist\":[\"feminist\",\"feminism\"]}\n",
    "\n",
    "def add_category_columns(row):\n",
    "    desc = row[\"user_description\"]\n",
    "    if desc is not np.nan:\n",
    "        desc = desc.lower()\n",
    "        desc = re.sub(r'[^A-Za-z]',' ',desc).strip()\n",
    "        desc = re.sub('#', '', desc)                      \n",
    "        desc = re.sub('https?:\\/\\/\\S+', '', desc)  \n",
    "        desc = desc.split()\n",
    "        for c in categories:\n",
    "            row[c] = 0\n",
    "            if len(list(set(categories[c])&set(desc))) > 0:\n",
    "                row[c] = 1\n",
    "    return row\n",
    "\n",
    "def get_retweet_count(user,retweet_users):\n",
    "    retweet_count = 0\n",
    "    if user in retweet_users:\n",
    "        retweet_count = retweet_users[user]\n",
    "    return retweet_count\n",
    "        \n",
    "def get_retweets(source_df,dest_df):\n",
    "    retweet_user_list = []\n",
    "    for t in source_df[source_df[\"is_retweet\"]==1][\"Text\"]:\n",
    "        retweet_user_list.append(t.split(\" \")[1].replace(\"@\",\"\").replace(\":\",\"\"))\n",
    "    retweet_users = dict(Counter(retweet_user_list))    \n",
    "    dest_df[\"retweet_count\"] = dest_df.apply(lambda x : get_retweet_count(x[\"name\"],retweet_users),axis=1)\n",
    "    return dest_df,retweet_users\n",
    "\n",
    "def mention_names(df,retweet_list):\n",
    "    mention_screen_names = []\n",
    "    for i in list(df[\"user_mention_screen_name\"]):\n",
    "        try:\n",
    "            i = i.split(\";\")\n",
    "            for x in i:\n",
    "                if x not in retweet_list:\n",
    "                    mention_screen_names.append(x)\n",
    "        except Exception as e:\n",
    "            pass\n",
    "    return mention_screen_names\n",
    "\n",
    "def mention_counts(user,mentions):\n",
    "    mention_count = 0\n",
    "    if user in mentions:\n",
    "        mention_count = mentions[user]\n",
    "    return mention_count\n",
    "\n",
    "\n",
    "def get_mentions(source_df,dest_df,retweet_list):\n",
    "    mentions = Counter(mention_names(source_df,retweet_list))\n",
    "    dest_df[\"mention_count\"] = dest_df.apply(lambda x : mention_counts(x[\"name\"],mentions),axis=1)\n",
    "    return dest_df\n",
    "\n",
    "def detect_bio_lang(row):\n",
    "    text = row[\"user_description\"]\n",
    "    row[\"bio_language\"] = \"NA\"\n",
    "    try:\n",
    "        if text is not np.nan or len(text) > 2: \n",
    "            row[\"bio_language\"] = langdetect.detect(text)\n",
    "    except Exception as e:\n",
    "        pass\n",
    "    return row\n",
    "\n",
    "def get_all_users(df):\n",
    "    user_details = {}\n",
    "    for i,j in df[[\"from_user\",\"user_description\"]].values:\n",
    "        if i not in user_details:\n",
    "            user_details[i] = j\n",
    "    user_details = pd.DataFrame(user_details.items(), columns=[\"from_user\", \"user_description\"])\n",
    "    return user_details\n",
    "\n",
    "\n",
    "def get_tweet_counts(source_df,dest_df):\n",
    "    tweet_counts = source_df.groupby(\"from_user\")[\"Text\"].count().reset_index()\n",
    "    tweet_counts.columns = [\"from_user\",\"tweets_count\"]\n",
    "    dest_df = pd.merge(dest_df,tweet_counts[tweet_counts[\"from_user\"].isin(dest_df[\"from_user\"])],how=\"left\",on=\"from_user\")\n",
    "    return dest_df\n",
    "\n",
    "def add_category_columns_tweets(row):\n",
    "    desc = row[\"Text\"]\n",
    "    if desc is not np.nan:\n",
    "        desc = desc.lower()\n",
    "        desc = re.sub(r'[^A-Za-z]',' ',desc).strip()\n",
    "        desc = re.sub('#', '', desc)                      \n",
    "        desc = re.sub('https?:\\/\\/\\S+', '', desc)  \n",
    "        desc = desc.split()\n",
    "        for c in categories:\n",
    "            row[c] = 0\n",
    "            if len(list(set(categories[c])&set(desc))) > 0:\n",
    "                row[c] = 1\n",
    "    return row\n",
    "\n",
    "def transform_columns(csv_file):\n",
    "    df = csv_file   \n",
    "    df = df.drop([\"created_at\",\"from_user\",\"user_description\",\"movement_in\",\"name\"],axis=1)\n",
    "    df[\"bio_language\"] = df[\"bio_language\"].fillna(\"NA\")\n",
    "    df[\"followers_count\"] = df[\"followers_count\"].fillna(0)\n",
    "    df[\"tweets_count\"] = df[\"tweets_count\"].fillna(0)\n",
    "    df[\"retweet_count\"] = df[\"retweet_count\"].fillna(0)\n",
    "    #df[\"tweets_count\"] = df[\"tweets_count\"].fillna(0)\n",
    "    df[\"mention_count\"] = df[\"mention_count\"].fillna(0)\n",
    "    df[\"is_art\"] = df[\"is_art\"].fillna(0)\n",
    "    df[\"is_education\"] = df[\"is_education\"].fillna(0)\n",
    "    df[\"is_feminist\"] = df[\"is_feminist\"].fillna(0)\n",
    "    df[\"is_media\"] = df[\"is_media\"].fillna(0)\n",
    "    df[\"is_politics\"] = df[\"is_politics\"].fillna(0)\n",
    "    df[\"is_sports\"] = df[\"is_sports\"].fillna(0)\n",
    "    df[\"positive\"] = df[\"positive\"].fillna(0)\n",
    "    df[\"negative\"] = df[\"negative\"].fillna(0)\n",
    "    df[\"neutral\"] = df[\"neutral\"].fillna(0)\n",
    "    df[\"education_content_count\"] = df[\"education_content_count\"].fillna(0)\n",
    "    df[\"media_content_count\"] = df[\"media_content_count\"].fillna(0)\n",
    "    df[\"politics_content_count\"] = df[\"politics_content_count\"].fillna(0)\n",
    "    \n",
    "    lb_make = LabelEncoder()\n",
    "    df[\"bio_language\"] = lb_make.fit_transform(df[\"bio_language\"])\n",
    "    df[\"macro_micro\"] = lb_make.fit_transform(df[\"macro_micro\"])\n",
    "    #df[\"name\"] = lb_make.fit_transform(df[\"name\"])\n",
    "    return df\n",
    "\n",
    "  \n",
    "def calculate_vif_(X, thresh=50):\n",
    "    cols = X.columns\n",
    "    variables = np.arange(X.shape[1])\n",
    "    dropped=True\n",
    "    while dropped:\n",
    "        dropped=False\n",
    "        c = X[cols[variables]].values\n",
    "        vif = [variance_inflation_factor(c, ix) for ix in np.arange(c.shape[1])]\n",
    "\n",
    "        maxloc = vif.index(max(vif))\n",
    "        if max(vif) > thresh:\n",
    "            print('dropping \\'' + X[cols[variables]].columns[maxloc] + '\\' at index: ' + str(maxloc))\n",
    "            variables = np.delete(variables, maxloc)\n",
    "            dropped=True\n",
    "\n",
    "    print('Remaining variables:')\n",
    "    print(X.columns[variables])\n",
    "    return X[cols[variables]]"
   ]
  },
  {
   "cell_type": "code",
   "execution_count": 9,
   "metadata": {},
   "outputs": [
    {
     "name": "stdout",
     "output_type": "stream",
     "text": [
      "(10478, 4)\n",
      "(3111, 4)\n",
      "(11484, 4)\n",
      "(27331, 4)\n"
     ]
    }
   ],
   "source": [
    "mac_mic = glob.glob(\"./Data/*.csv\")\n",
    "i_sb = pd.DataFrame()\n",
    "i_gw = pd.DataFrame()\n",
    "i_wm = pd.DataFrame()\n",
    "i_mc = pd.DataFrame()\n",
    "\n",
    "for i in mac_mic:\n",
    "    movement = i.split(\"/\")[2].split(\".\")[0].split(\"_\")[2]\n",
    "    if movement == \"sb\":\n",
    "        i_sb = pd.read_csv(i)\n",
    "        i_sb[\"movement_in\"] = \"StopTheBan\"\n",
    "        print(i_sb.shape)\n",
    "    elif movement == \"gw\":\n",
    "        i_gw = pd.read_csv(i)\n",
    "        i_gw[\"movement_in\"] = \"GrabYourWallet\"\n",
    "        print(i_gw.shape)\n",
    "    elif movement == \"wm\":\n",
    "        i_wm = pd.read_csv(i)\n",
    "        i_wm[\"movement_in\"] = \"WhyIMarch\"\n",
    "        print(i_wm.shape)\n",
    "    else:\n",
    "        i_mc = pd.read_csv(i)\n",
    "        i_mc[\"movement_in\"] = \"McStrike\"\n",
    "        print(i_mc.shape)"
   ]
  },
  {
   "cell_type": "markdown",
   "metadata": {},
   "source": [
    "### Basic Cleaning"
   ]
  },
  {
   "cell_type": "code",
   "execution_count": 10,
   "metadata": {},
   "outputs": [],
   "source": [
    "dataM1 = glob.glob(\"./Data/20170122 WhyIMarch/*.csv\")\n",
    "dataM2 = glob.glob(\"./Data/20170204 GrabYourWallet/*.csv\")\n",
    "dataM3 = glob.glob(\"./Data/20190521 StoptheBan/*.csv\")\n",
    "dataM4 = glob.glob(\"./Data/McStrike/*.csv\")\n",
    "\n",
    "M1 = pd.DataFrame()\n",
    "for d in dataM1:\n",
    "    M1 = pd.concat([M1,pd.read_csv(d)])\n",
    "\n",
    "M2 = pd.DataFrame()\n",
    "for d in dataM2:\n",
    "    M2 = pd.concat([M2,pd.read_csv(d)])\n",
    "    \n",
    "M3 = pd.DataFrame()\n",
    "for d in dataM3:\n",
    "    M3 = pd.concat([M3,pd.read_csv(d)])\n",
    "    \n",
    "M4 = pd.DataFrame()\n",
    "for d in dataM4:\n",
    "    M4 = pd.concat([M4,pd.read_csv(d)])    \n",
    "    \n",
    "M1.columns = [x.replace(\"[M] \",\"\").replace(\": \",\"\") for x in M1.columns] \n",
    "M2.columns = [x.replace(\"[M] \",\"\").replace(\": \",\"\") for x in M2.columns] \n",
    "M3.columns = [x.replace(\"[M] \",\"\").replace(\": \",\"\") for x in M3.columns] \n",
    "M4.columns = [x.replace(\"[M] \",\"\").replace(\": \",\"\") for x in M4.columns] \n",
    "\n",
    "M1[\"followers_count\"] = M1[\"followers_count\"].fillna(0)\n",
    "M2[\"followers_count\"] = M2[\"followers_count\"].fillna(0)\n",
    "M3[\"followers_count\"] = M3[\"followers_count\"].fillna(0)\n",
    "\n",
    "M1[\"favourites_count\"] = M1[\"favourites_count\"].fillna(0)\n",
    "M2[\"favourites_count\"] = M2[\"favourites_count\"].fillna(0)\n",
    "M3[\"favourites_count\"] = M3[\"favourites_count\"].fillna(0)\n",
    "\n",
    "M1[\"friends_count\"] = M1[\"friends_count\"].fillna(0)\n",
    "M2[\"friends_count\"] = M2[\"friends_count\"].fillna(0)\n",
    "M3[\"friends_count\"] = M3[\"friends_count\"].fillna(0)\n",
    "\n",
    "M1[\"username\"] = M1[\"username\"].fillna(\"NA\")\n",
    "M2[\"username\"] = M2[\"username\"].fillna(\"NA\")\n",
    "M3[\"username\"] = M3[\"username\"].fillna(\"NA\")\n",
    "\n",
    "M1[\"hashtag\"] = M1[\"hashtag\"].fillna(\"NA\")\n",
    "M2[\"hashtag\"] = M2[\"hashtag\"].fillna(\"NA\")                                   \n",
    "M3[\"hashtag\"] = M3[\"hashtag\"].fillna(\"NA\")\n",
    "\n",
    "M1[\"movement_name\"] = \"WhyIMarch\"\n",
    "M2[\"movement_name\"] = \"GrabYourWallet\"\n",
    "M3[\"movement_name\"] = \"StopTheBan\"\n",
    "M4[\"movement_name\"] = \"McStrike\"\n",
    "\n",
    "M1[\"created_at\"] =  pd.to_datetime(M1[\"created_at\"], format='%Y-%m-%d %H:%M:%S')\n",
    "M2[\"created_at\"] =  pd.to_datetime(M2[\"created_at\"], format='%Y-%m-%d %H:%M:%S')\n",
    "M3[\"created_at\"] =  pd.to_datetime(M3[\"created_at\"], format='%Y-%m-%d %H:%M:%S')\n",
    "M4[\"created_at\"] =  pd.to_datetime(M4[\"created_at\"], format='%Y-%m-%d %H:%M:%S')\n",
    "\n",
    "M1[\"is_retweet\"] = 0\n",
    "M1.loc[M1[\"Text\"].str.contains(\"^RT\"),\"is_retweet\"] = 1\n",
    "M2[\"is_retweet\"] = 0\n",
    "M2.loc[M2[\"Text\"].str.contains(\"^RT\"),\"is_retweet\"] = 1\n",
    "M3[\"is_retweet\"] = 0\n",
    "M3.loc[M3[\"Text\"].str.contains(\"^RT\"),\"is_retweet\"] = 1\n",
    "M4[\"is_retweet\"] = 0\n",
    "M4.loc[M4[\"Text\"].str.contains(\"^RT\"),\"is_retweet\"] = 1"
   ]
  },
  {
   "cell_type": "code",
   "execution_count": 11,
   "metadata": {},
   "outputs": [
    {
     "name": "stdout",
     "output_type": "stream",
     "text": [
      "WhyIMarch :-  (90288, 32)\n",
      "GrabYourWallet :-  (42403, 34)\n",
      "StopTheBan :-  (99343, 35)\n",
      "McStrike :-  (597065, 35)\n"
     ]
    }
   ],
   "source": [
    "print(\"WhyIMarch :- \",M1.shape)\n",
    "print(\"GrabYourWallet :- \",M2.shape)\n",
    "print(\"StopTheBan :- \",M3.shape)\n",
    "print(\"McStrike :- \",M4.shape)"
   ]
  },
  {
   "cell_type": "code",
   "execution_count": 12,
   "metadata": {},
   "outputs": [
    {
     "name": "stdout",
     "output_type": "stream",
     "text": [
      "{'ReferenceText', 'Annotations'} {'tweet_id', 'statuses_count', 'profile_image_url'} {'tweet_id', 'statuses_count', 'profile_image_url'}\n"
     ]
    }
   ],
   "source": [
    "print(set(list(M2.columns)).difference(set(list(M1.columns))),\\\n",
    "      set(list(M3.columns)).difference(set(list(M1.columns))),\\\n",
    "set(list(M4.columns)).difference(set(list(M1.columns))))"
   ]
  },
  {
   "cell_type": "markdown",
   "metadata": {},
   "source": [
    "### Get all unique users"
   ]
  },
  {
   "cell_type": "code",
   "execution_count": 13,
   "metadata": {},
   "outputs": [
    {
     "name": "stdout",
     "output_type": "stream",
     "text": [
      "Unique users in WhyIMarch :-  (70163, 2)\n",
      "Unique users in GrabYourWallet :-  (21607, 2)\n",
      "Unique users in StopTheBan :-  (56583, 2)\n",
      "Unique users in McStrike :-  (229369, 2)\n"
     ]
    }
   ],
   "source": [
    "M1_users = get_all_users(M1)\n",
    "print(\"Unique users in WhyIMarch :- \",M1_users.shape)\n",
    "M2_users = get_all_users(M2)\n",
    "print(\"Unique users in GrabYourWallet :- \",M2_users.shape)\n",
    "M3_users = get_all_users(M3)\n",
    "print(\"Unique users in StopTheBan :- \",M3_users.shape)\n",
    "M4_users = get_all_users(M4)\n",
    "print(\"Unique users in McStrike :- \",M4_users.shape)"
   ]
  },
  {
   "cell_type": "code",
   "execution_count": 14,
   "metadata": {},
   "outputs": [
    {
     "name": "stdout",
     "output_type": "stream",
     "text": [
      "Number of influencers_WM  :-  11484\n",
      "Number of influencers_GW  :-  3111\n",
      "Number of influencers_SB  :-  10478\n",
      "Number of influencers_MC  :-  27331\n",
      "\n",
      "\n",
      "Number of influencers_WM with description :-  10885\n",
      "Number of influencers_GW with description :-  2924\n",
      "Number of influencers_SB with description :-  10187\n",
      "Number of influencers_MC with description :-  26302\n"
     ]
    }
   ],
   "source": [
    "print(\"Number of influencers_WM  :- \",len(set(i_wm[\"name\"])))\n",
    "print(\"Number of influencers_GW  :- \",len(set(i_gw[\"name\"])))\n",
    "print(\"Number of influencers_SB  :- \",len(set(i_sb[\"name\"])))\n",
    "print(\"Number of influencers_MC  :- \",len(set(i_mc[\"name\"])))\n",
    "print(\"\\n\")\n",
    "print(\"Number of influencers_WM with description :- \",len(set(i_wm[\"name\"])&(set(M1_users[\"from_user\"]))))\n",
    "print(\"Number of influencers_GW with description :- \",len(set(i_gw[\"name\"])&(set(M2_users[\"from_user\"]))))\n",
    "print(\"Number of influencers_SB with description :- \",len(set(i_sb[\"name\"])&(set(M3_users[\"from_user\"]))))\n",
    "print(\"Number of influencers_MC with description :- \",len(set(i_mc[\"name\"])&(set(M4_users[\"from_user\"]))))"
   ]
  },
  {
   "cell_type": "code",
   "execution_count": 15,
   "metadata": {},
   "outputs": [
    {
     "data": {
      "text/plain": [
       "(50298, 52404)"
      ]
     },
     "execution_count": 15,
     "metadata": {},
     "output_type": "execute_result"
    }
   ],
   "source": [
    "10885 + 2924 + 10187 + 26302, 11484 + 3111 + 10478 + 27331"
   ]
  },
  {
   "cell_type": "markdown",
   "metadata": {},
   "source": [
    "### Take influencers data from every movement"
   ]
  },
  {
   "cell_type": "code",
   "execution_count": 16,
   "metadata": {},
   "outputs": [
    {
     "name": "stdout",
     "output_type": "stream",
     "text": [
      "(11484, 6) (3111, 6) (10478, 6) (27331, 6)\n"
     ]
    }
   ],
   "source": [
    "M1_users = pd.merge(i_wm,M1_users,right_on=\"from_user\",left_on=\"name\",how=\"left\")\n",
    "M2_users = pd.merge(i_gw,M2_users,right_on=\"from_user\",left_on=\"name\",how=\"left\")\n",
    "M3_users = pd.merge(i_sb,M3_users,right_on=\"from_user\",left_on=\"name\",how=\"left\")\n",
    "M4_users = pd.merge(i_mc,M4_users,right_on=\"from_user\",left_on=\"name\",how=\"left\")\n",
    "print(M1_users.shape,M2_users.shape,M3_users.shape,M4_users.shape)"
   ]
  },
  {
   "cell_type": "markdown",
   "metadata": {},
   "source": [
    "### Get latest followers count"
   ]
  },
  {
   "cell_type": "code",
   "execution_count": 17,
   "metadata": {},
   "outputs": [
    {
     "name": "stdout",
     "output_type": "stream",
     "text": [
      "(11484, 8) (3111, 8) (10478, 8) (27331, 8)\n"
     ]
    }
   ],
   "source": [
    "M1_users = pd.merge(M1_users,M1.loc[M1[\"from_user\"].isin(M1_users[\"from_user\"])].sort_values(\"created_at\").groupby(\"from_user\").last().reset_index()[[\"from_user\",\"created_at\",\"followers_count\"]],how=\"left\")\n",
    "M2_users = pd.merge(M2_users,M2.loc[M2[\"from_user\"].isin(M2_users[\"from_user\"])].sort_values(\"created_at\").groupby(\"from_user\").last().reset_index()[[\"from_user\",\"created_at\",\"followers_count\"]],how=\"left\")\n",
    "M3_users = pd.merge(M3_users,M3.loc[M3[\"from_user\"].isin(M3_users[\"from_user\"])].sort_values(\"created_at\").groupby(\"from_user\").last().reset_index()[[\"from_user\",\"created_at\",\"followers_count\"]],how=\"left\")\n",
    "M4_users = pd.merge(M4_users,M4.loc[M4[\"from_user\"].isin(M4_users[\"from_user\"])].sort_values(\"created_at\").groupby(\"from_user\").last().reset_index()[[\"from_user\",\"created_at\",\"followers_count\"]],how=\"left\")\n",
    "print(M1_users.shape,M2_users.shape,M3_users.shape,M4_users.shape)"
   ]
  },
  {
   "cell_type": "markdown",
   "metadata": {},
   "source": [
    "### Add category columns"
   ]
  },
  {
   "cell_type": "code",
   "execution_count": 18,
   "metadata": {},
   "outputs": [
    {
     "name": "stdout",
     "output_type": "stream",
     "text": [
      "(11484, 14) (3111, 14) (10478, 14) (27331, 14)\n"
     ]
    }
   ],
   "source": [
    "M1_users = M1_users.apply(add_category_columns,axis=1)\n",
    "M2_users = M2_users.apply(add_category_columns,axis=1)\n",
    "M3_users = M3_users.apply(add_category_columns,axis=1)\n",
    "M4_users = M4_users.apply(add_category_columns,axis=1)\n",
    "print(M1_users.shape,M2_users.shape,M3_users.shape,M4_users.shape)"
   ]
  },
  {
   "cell_type": "markdown",
   "metadata": {},
   "source": [
    "### Get number of times retweeted"
   ]
  },
  {
   "cell_type": "code",
   "execution_count": 19,
   "metadata": {},
   "outputs": [
    {
     "name": "stdout",
     "output_type": "stream",
     "text": [
      "(11484, 15) (3111, 15) (10478, 15) (27331, 15)\n"
     ]
    }
   ],
   "source": [
    "M1_users,M1_retweets = get_retweets(M1,M1_users)\n",
    "M2_users,M2_retweets = get_retweets(M2,M2_users)\n",
    "M3_users,M3_retweets = get_retweets(M3,M3_users)\n",
    "M4_users,M4_retweets = get_retweets(M4,M4_users)\n",
    "print(M1_users.shape,M2_users.shape,M3_users.shape,M4_users.shape)"
   ]
  },
  {
   "cell_type": "markdown",
   "metadata": {},
   "source": [
    "### Get number of times mentioned"
   ]
  },
  {
   "cell_type": "code",
   "execution_count": 20,
   "metadata": {},
   "outputs": [
    {
     "name": "stdout",
     "output_type": "stream",
     "text": [
      "(11484, 16) (3111, 16) (10478, 16) (27331, 16)\n"
     ]
    }
   ],
   "source": [
    "M1_users = get_mentions(M1,M1_users,M1_retweets)\n",
    "M2_users = get_mentions(M2,M2_users,M2_retweets)\n",
    "M3_users = get_mentions(M3,M3_users,M3_retweets)\n",
    "M4_users = get_mentions(M4,M4_users,M4_retweets)\n",
    "print(M1_users.shape,M2_users.shape,M3_users.shape,M4_users.shape)"
   ]
  },
  {
   "cell_type": "markdown",
   "metadata": {},
   "source": [
    "### Get tweets count"
   ]
  },
  {
   "cell_type": "code",
   "execution_count": 21,
   "metadata": {},
   "outputs": [
    {
     "name": "stdout",
     "output_type": "stream",
     "text": [
      "(11484, 17) (3111, 17) (10478, 17) (27331, 17)\n"
     ]
    }
   ],
   "source": [
    "M1_users = get_tweet_counts(M1,M1_users)\n",
    "M2_users = get_tweet_counts(M2,M2_users)\n",
    "M3_users = get_tweet_counts(M3,M3_users)\n",
    "M4_users = get_tweet_counts(M4,M4_users)\n",
    "print(M1_users.shape,M2_users.shape,M3_users.shape,M4_users.shape)"
   ]
  },
  {
   "cell_type": "code",
   "execution_count": 22,
   "metadata": {},
   "outputs": [],
   "source": [
    "M1_users.to_csv(\"./M1_users.csv\",index=False)\n",
    "M2_users.to_csv(\"./M2_users.csv\",index=False)\n",
    "M3_users.to_csv(\"./M3_users.csv\",index=False)\n",
    "M4_users.to_csv(\"./M4_users.csv\",index=False)"
   ]
  },
  {
   "cell_type": "markdown",
   "metadata": {},
   "source": [
    "### Get bio language"
   ]
  },
  {
   "cell_type": "code",
   "execution_count": 23,
   "metadata": {},
   "outputs": [
    {
     "name": "stdout",
     "output_type": "stream",
     "text": [
      "CPU times: user 55 s, sys: 464 ms, total: 55.4 s\n",
      "Wall time: 55.8 s\n"
     ]
    }
   ],
   "source": [
    "%time M1_users = M1_users.apply(detect_bio_lang,axis=1)"
   ]
  },
  {
   "cell_type": "code",
   "execution_count": 24,
   "metadata": {},
   "outputs": [
    {
     "name": "stdout",
     "output_type": "stream",
     "text": [
      "CPU times: user 13.6 s, sys: 112 ms, total: 13.7 s\n",
      "Wall time: 13.7 s\n"
     ]
    }
   ],
   "source": [
    "%time M2_users = M2_users.apply(detect_bio_lang,axis=1)"
   ]
  },
  {
   "cell_type": "code",
   "execution_count": 25,
   "metadata": {},
   "outputs": [
    {
     "name": "stdout",
     "output_type": "stream",
     "text": [
      "CPU times: user 47.9 s, sys: 400 ms, total: 48.3 s\n",
      "Wall time: 48.3 s\n"
     ]
    }
   ],
   "source": [
    "%time M3_users = M3_users.apply(detect_bio_lang,axis=1)"
   ]
  },
  {
   "cell_type": "code",
   "execution_count": 26,
   "metadata": {},
   "outputs": [
    {
     "name": "stdout",
     "output_type": "stream",
     "text": [
      "CPU times: user 2min 7s, sys: 988 ms, total: 2min 8s\n",
      "Wall time: 2min 8s\n"
     ]
    }
   ],
   "source": [
    "%time M4_users = M4_users.apply(detect_bio_lang,axis=1)"
   ]
  },
  {
   "cell_type": "code",
   "execution_count": 31,
   "metadata": {},
   "outputs": [
    {
     "data": {
      "text/plain": [
       "(44, 31, 40, 51)"
      ]
     },
     "execution_count": 31,
     "metadata": {},
     "output_type": "execute_result"
    }
   ],
   "source": [
    "len(M1_users[\"bio_language\"].unique()),len(M2_users[\"bio_language\"].unique()),len(M3_users[\"bio_language\"].unique()),len(M4_users[\"bio_language\"].unique())"
   ]
  },
  {
   "cell_type": "code",
   "execution_count": 41,
   "metadata": {},
   "outputs": [
    {
     "name": "stdout",
     "output_type": "stream",
     "text": [
      "(11484, 18) (3111, 18) (10478, 18) (27331, 18)\n"
     ]
    }
   ],
   "source": [
    "print(M1_users.shape,M2_users.shape,M3_users.shape,M4_users.shape)"
   ]
  },
  {
   "cell_type": "code",
   "execution_count": 42,
   "metadata": {},
   "outputs": [],
   "source": [
    "def cleanText(text):\n",
    "    if len(text) > 2 or text is not np.nan:\n",
    "        text = re.sub('RT[\\s]+', '', text)                # Removing RT\n",
    "        text = re.sub('@[A-Za-z0–9]+', '', text)          # Removing @mentions\n",
    "        text = re.sub('#', '', text)                      # Removing '#' hash tag\n",
    "        text = re.sub('https?:\\/\\/\\S+', '', text)         # Removing hyperlink\n",
    "        for i in text:\n",
    "            if i not in string.printable[0:62]:\n",
    "                text = text.replace(i,\" \")\n",
    "    return text"
   ]
  },
  {
   "cell_type": "code",
   "execution_count": 43,
   "metadata": {},
   "outputs": [],
   "source": [
    "def get_tweet_sentiment(tweet):\n",
    "    try:\n",
    "        analysis = TextBlob(cleanText(tweet)) \n",
    "        # set sentiment \n",
    "        if analysis.sentiment.polarity > 0: \n",
    "            return 'positive'\n",
    "        elif analysis.sentiment.polarity == 0: \n",
    "            return 'neutral'\n",
    "        else: \n",
    "            return 'negative'\n",
    "    except Exception as e:\n",
    "        print(e)\n",
    "        return \"NA\"\n"
   ]
  },
  {
   "cell_type": "code",
   "execution_count": 44,
   "metadata": {},
   "outputs": [],
   "source": [
    "sample = shuffle(M1).head()"
   ]
  },
  {
   "cell_type": "code",
   "execution_count": 45,
   "metadata": {},
   "outputs": [
    {
     "name": "stdout",
     "output_type": "stream",
     "text": [
      "CPU times: user 35.9 s, sys: 15.8 ms, total: 35.9 s\n",
      "Wall time: 35.9 s\n"
     ]
    }
   ],
   "source": [
    "%time M1[\"tweet_sentiment\"] = M1.apply(lambda s : get_tweet_sentiment(s[\"Text\"]),axis = 1)"
   ]
  },
  {
   "cell_type": "code",
   "execution_count": 46,
   "metadata": {},
   "outputs": [
    {
     "name": "stdout",
     "output_type": "stream",
     "text": [
      "CPU times: user 18.3 s, sys: 24 ms, total: 18.4 s\n",
      "Wall time: 18.4 s\n"
     ]
    }
   ],
   "source": [
    "%time M2[\"tweet_sentiment\"] = M2.apply(lambda s : get_tweet_sentiment(s[\"Text\"]),axis = 1)"
   ]
  },
  {
   "cell_type": "code",
   "execution_count": 47,
   "metadata": {},
   "outputs": [
    {
     "name": "stdout",
     "output_type": "stream",
     "text": [
      "CPU times: user 46.2 s, sys: 204 ms, total: 46.4 s\n",
      "Wall time: 46.4 s\n"
     ]
    }
   ],
   "source": [
    "%time M3[\"tweet_sentiment\"] = M3.apply(lambda s : get_tweet_sentiment(s[\"Text\"]),axis = 1)"
   ]
  },
  {
   "cell_type": "code",
   "execution_count": 48,
   "metadata": {},
   "outputs": [
    {
     "name": "stdout",
     "output_type": "stream",
     "text": [
      "CPU times: user 4min 43s, sys: 502 ms, total: 4min 43s\n",
      "Wall time: 4min 43s\n"
     ]
    }
   ],
   "source": [
    "%time M4[\"tweet_sentiment\"] = M4.apply(lambda s : get_tweet_sentiment(s[\"Text\"]),axis = 1)"
   ]
  },
  {
   "cell_type": "code",
   "execution_count": 49,
   "metadata": {},
   "outputs": [
    {
     "name": "stdout",
     "output_type": "stream",
     "text": [
      "neutral     50146\n",
      "positive    27706\n",
      "negative    12436\n",
      "Name: tweet_sentiment, dtype: int64\n",
      "neutral     25800\n",
      "positive    13107\n",
      "negative     3496\n",
      "Name: tweet_sentiment, dtype: int64\n",
      "positive    43820\n",
      "neutral     42070\n",
      "negative    13453\n",
      "Name: tweet_sentiment, dtype: int64\n",
      "neutral     313824\n",
      "positive    209872\n",
      "negative     73369\n",
      "Name: tweet_sentiment, dtype: int64\n"
     ]
    }
   ],
   "source": [
    "print(M1[\"tweet_sentiment\"].value_counts())\n",
    "print(M2[\"tweet_sentiment\"].value_counts())\n",
    "print(M3[\"tweet_sentiment\"].value_counts())\n",
    "print(M4[\"tweet_sentiment\"].value_counts())"
   ]
  },
  {
   "cell_type": "code",
   "execution_count": 50,
   "metadata": {},
   "outputs": [],
   "source": [
    "M1_sentiment = pd.pivot_table(M1[[\"from_user\",\"tweet_sentiment\"]],index = \"from_user\", columns = \"tweet_sentiment\", aggfunc=len).fillna(0)\n",
    "M2_sentiment = pd.pivot_table(M2[[\"from_user\",\"tweet_sentiment\"]],index = \"from_user\", columns = \"tweet_sentiment\", aggfunc=len).fillna(0)\n",
    "M3_sentiment = pd.pivot_table(M3[[\"from_user\",\"tweet_sentiment\"]],index = \"from_user\", columns = \"tweet_sentiment\", aggfunc=len).fillna(0)\n",
    "M4_sentiment = pd.pivot_table(M4[[\"from_user\",\"tweet_sentiment\"]],index = \"from_user\", columns = \"tweet_sentiment\", aggfunc=len).fillna(0)"
   ]
  },
  {
   "cell_type": "code",
   "execution_count": 51,
   "metadata": {},
   "outputs": [
    {
     "name": "stdout",
     "output_type": "stream",
     "text": [
      "(11484, 21) (3111, 21) (10478, 21) (27331, 21)\n"
     ]
    }
   ],
   "source": [
    "M1_users = pd.merge(M1_users,M1_sentiment,left_on=\"from_user\",right_on=\"from_user\",how=\"left\")\n",
    "M2_users = pd.merge(M2_users,M2_sentiment,left_on=\"from_user\",right_on=\"from_user\",how=\"left\")\n",
    "M3_users = pd.merge(M3_users,M3_sentiment,left_on=\"from_user\",right_on=\"from_user\",how=\"left\")\n",
    "M4_users = pd.merge(M4_users,M4_sentiment,left_on=\"from_user\",right_on=\"from_user\",how=\"left\")\n",
    "print(M1_users.shape,M2_users.shape,M3_users.shape,M4_users.shape)"
   ]
  },
  {
   "cell_type": "code",
   "execution_count": 52,
   "metadata": {
    "scrolled": true
   },
   "outputs": [
    {
     "data": {
      "text/plain": [
       "Index(['community', 'created_at', 'followers_count', 'from_user', 'is_art',\n",
       "       'is_education', 'is_feminist', 'is_media', 'is_politics', 'is_sports',\n",
       "       'macro_micro', 'movement_in', 'name', 'user_description',\n",
       "       'retweet_count', 'mention_count', 'tweets_count', 'bio_language',\n",
       "       'negative', 'neutral', 'positive'],\n",
       "      dtype='object')"
      ]
     },
     "execution_count": 52,
     "metadata": {},
     "output_type": "execute_result"
    }
   ],
   "source": [
    "M1_users.columns"
   ]
  },
  {
   "cell_type": "markdown",
   "metadata": {},
   "source": [
    "### Tweet content count"
   ]
  },
  {
   "cell_type": "code",
   "execution_count": 53,
   "metadata": {},
   "outputs": [
    {
     "name": "stdout",
     "output_type": "stream",
     "text": [
      "CPU times: user 5min 50s, sys: 404 ms, total: 5min 50s\n",
      "Wall time: 5min 50s\n"
     ]
    }
   ],
   "source": [
    "%time M1 = M1.apply(add_category_columns_tweets,axis=1)"
   ]
  },
  {
   "cell_type": "code",
   "execution_count": 54,
   "metadata": {},
   "outputs": [
    {
     "name": "stdout",
     "output_type": "stream",
     "text": [
      "CPU times: user 2min 43s, sys: 72 ms, total: 2min 43s\n",
      "Wall time: 2min 43s\n"
     ]
    }
   ],
   "source": [
    "%time M2 = M2.apply(add_category_columns_tweets,axis=1)"
   ]
  },
  {
   "cell_type": "code",
   "execution_count": 55,
   "metadata": {},
   "outputs": [
    {
     "name": "stdout",
     "output_type": "stream",
     "text": [
      "CPU times: user 6min 21s, sys: 272 ms, total: 6min 21s\n",
      "Wall time: 6min 21s\n"
     ]
    }
   ],
   "source": [
    "%time M3 = M3.apply(add_category_columns_tweets,axis=1)"
   ]
  },
  {
   "cell_type": "code",
   "execution_count": 56,
   "metadata": {},
   "outputs": [
    {
     "name": "stdout",
     "output_type": "stream",
     "text": [
      "CPU times: user 38min 35s, sys: 3.56 s, total: 38min 38s\n",
      "Wall time: 38min 38s\n",
      "(90288, 39) (42403, 41) (99343, 42) (597065, 42)\n"
     ]
    }
   ],
   "source": [
    "%time M4 = M4.apply(add_category_columns_tweets,axis=1)\n",
    "print(M1.shape,M2.shape,M3.shape,M4.shape)"
   ]
  },
  {
   "cell_type": "code",
   "execution_count": 57,
   "metadata": {},
   "outputs": [
    {
     "name": "stdout",
     "output_type": "stream",
     "text": [
      "(11484, 24) (3111, 24) (10478, 24) (27331, 24)\n"
     ]
    }
   ],
   "source": [
    "tweet_content_M1 = pd.DataFrame(M1[[\"from_user\",\"is_education\",\"is_media\",\"is_politics\"]].groupby(\"from_user\").sum().reset_index())\n",
    "tweet_content_M1 = tweet_content_M1.rename(columns={\"is_education\": \"education_content_count\", \"is_media\": \"media_content_count\",\"is_politics\":\"politics_content_count\"})\n",
    "tweet_content_M2 = pd.DataFrame(M2[[\"from_user\",\"is_education\",\"is_media\",\"is_politics\"]].groupby(\"from_user\").sum().reset_index())\n",
    "tweet_content_M2 = tweet_content_M2.rename(columns={\"is_education\": \"education_content_count\", \"is_media\": \"media_content_count\",\"is_politics\":\"politics_content_count\"})\n",
    "tweet_content_M3 = pd.DataFrame(M3[[\"from_user\",\"is_education\",\"is_media\",\"is_politics\"]].groupby(\"from_user\").sum().reset_index())\n",
    "tweet_content_M3 = tweet_content_M3.rename(columns={\"is_education\": \"education_content_count\", \"is_media\": \"media_content_count\",\"is_politics\":\"politics_content_count\"})\n",
    "tweet_content_M4 = pd.DataFrame(M4[[\"from_user\",\"is_education\",\"is_media\",\"is_politics\"]].groupby(\"from_user\").sum().reset_index())\n",
    "tweet_content_M4 = tweet_content_M4.rename(columns={\"is_education\": \"education_content_count\", \"is_media\": \"media_content_count\",\"is_politics\":\"politics_content_count\"})\n",
    "\n",
    "M1_users = pd.merge(tweet_content_M1,M1_users,left_on=\"from_user\",right_on=\"from_user\",how=\"right\")\n",
    "M2_users = pd.merge(tweet_content_M2,M2_users,left_on=\"from_user\",right_on=\"from_user\",how=\"right\")\n",
    "M3_users = pd.merge(tweet_content_M3,M3_users,left_on=\"from_user\",right_on=\"from_user\",how=\"right\")\n",
    "M4_users = pd.merge(tweet_content_M4,M4_users,left_on=\"from_user\",right_on=\"from_user\",how=\"right\")\n",
    "print(M1_users.shape,M2_users.shape,M3_users.shape,M4_users.shape)"
   ]
  },
  {
   "cell_type": "code",
   "execution_count": 59,
   "metadata": {},
   "outputs": [
    {
     "name": "stdout",
     "output_type": "stream",
     "text": [
      "(11484, 24) (3111, 24) (10478, 24) (27331, 24)\n"
     ]
    }
   ],
   "source": [
    "print(M1_users.shape,M2_users.shape,M3_users.shape,M4_users.shape)"
   ]
  },
  {
   "cell_type": "code",
   "execution_count": 15,
   "metadata": {},
   "outputs": [
    {
     "data": {
      "text/plain": [
       "<matplotlib.axes._subplots.AxesSubplot at 0x7f83d599b668>"
      ]
     },
     "execution_count": 15,
     "metadata": {},
     "output_type": "execute_result"
    },
    {
     "data": {
      "image/png": "[encoded data removed]",
      "text/plain": [
       "<Figure size 432x288 with 2 Axes>"
      ]
     },
     "metadata": {
      "needs_background": "light"
     },
     "output_type": "display_data"
    }
   ],
   "source": [
    "sns.heatmap(M1_users.corr())"
   ]
  },
  {
   "cell_type": "code",
   "execution_count": null,
   "metadata": {},
   "outputs": [],
   "source": [
    "sns.heatmap(M2_users.corr())"
   ]
  },
  {
   "cell_type": "code",
   "execution_count": null,
   "metadata": {},
   "outputs": [],
   "source": [
    "sns.heatmap(M3_users.corr())"
   ]
  },
  {
   "cell_type": "code",
   "execution_count": null,
   "metadata": {},
   "outputs": [],
   "source": [
    "sns.heatmap(M4_users.corr())"
   ]
  },
  {
   "cell_type": "code",
   "execution_count": null,
   "metadata": {},
   "outputs": [],
   "source": [
    "M1_users.groupby(['macro_micro','is_education']).size().reset_index().pivot_table(columns='is_education', index='macro_micro', values=0).plot(kind = 'bar',stacked = True),"
   ]
  },
  {
   "cell_type": "code",
   "execution_count": null,
   "metadata": {},
   "outputs": [],
   "source": [
    "M1_users.groupby(['macro_micro','is_education','is_media','is_politics','is_art','is_sports','is_feminist']).size().reset_index()"
   ]
  },
  {
   "cell_type": "code",
   "execution_count": 58,
   "metadata": {},
   "outputs": [
    {
     "data": {
      "text/plain": [
       "Index(['from_user', 'education_content_count', 'media_content_count',\n",
       "       'politics_content_count', 'community', 'created_at', 'followers_count',\n",
       "       'is_art', 'is_education', 'is_feminist', 'is_media', 'is_politics',\n",
       "       'is_sports', 'macro_micro', 'movement_in', 'name', 'user_description',\n",
       "       'retweet_count', 'mention_count', 'tweets_count', 'bio_language',\n",
       "       'negative', 'neutral', 'positive'],\n",
       "      dtype='object')"
      ]
     },
     "execution_count": 58,
     "metadata": {},
     "output_type": "execute_result"
    }
   ],
   "source": [
    "M1_users.columns"
   ]
  },
  {
   "cell_type": "code",
   "execution_count": 5,
   "metadata": {},
   "outputs": [],
   "source": [
    "M1_final_users = transform_columns(M1_users)\n",
    "M2_final_users = transform_columns(M2_users)\n",
    "M3_final_users = transform_columns(M3_users)\n",
    "M4_final_users = transform_columns(M4_users)"
   ]
  },
  {
   "cell_type": "code",
   "execution_count": null,
   "metadata": {},
   "outputs": [],
   "source": []
  },
  {
   "cell_type": "code",
   "execution_count": null,
   "metadata": {},
   "outputs": [],
   "source": []
  },
  {
   "cell_type": "code",
   "execution_count": 6,
   "metadata": {
    "scrolled": false
   },
   "outputs": [
    {
     "name": "stdout",
     "output_type": "stream",
     "text": [
      "dropping 'negative' at index: 14\n",
      "dropping 'tweets_count' at index: 17\n",
      "Remaining variables:\n",
      "Index(['education_content_count', 'media_content_count',\n",
      "       'politics_content_count', 'bio_language', 'community',\n",
      "       'followers_count', 'is_art', 'is_education', 'is_feminist', 'is_media',\n",
      "       'is_politics', 'is_sports', 'macro_micro', 'mention_count', 'neutral',\n",
      "       'positive', 'retweet_count'],\n",
      "      dtype='object')\n",
      "dropping 'negative' at index: 14\n",
      "dropping 'tweets_count' at index: 17\n",
      "Remaining variables:\n",
      "Index(['education_content_count', 'media_content_count',\n",
      "       'politics_content_count', 'bio_language', 'community',\n",
      "       'followers_count', 'is_art', 'is_education', 'is_feminist', 'is_media',\n",
      "       'is_politics', 'is_sports', 'macro_micro', 'mention_count', 'neutral',\n",
      "       'positive', 'retweet_count'],\n",
      "      dtype='object')\n",
      "dropping 'negative' at index: 14\n",
      "dropping 'tweets_count' at index: 17\n",
      "Remaining variables:\n",
      "Index(['education_content_count', 'media_content_count',\n",
      "       'politics_content_count', 'bio_language', 'community',\n",
      "       'followers_count', 'is_art', 'is_education', 'is_feminist', 'is_media',\n",
      "       'is_politics', 'is_sports', 'macro_micro', 'mention_count', 'neutral',\n",
      "       'positive', 'retweet_count'],\n",
      "      dtype='object')\n",
      "dropping 'negative' at index: 14\n",
      "dropping 'tweets_count' at index: 17\n",
      "Remaining variables:\n",
      "Index(['education_content_count', 'media_content_count',\n",
      "       'politics_content_count', 'bio_language', 'community',\n",
      "       'followers_count', 'is_art', 'is_education', 'is_feminist', 'is_media',\n",
      "       'is_politics', 'is_sports', 'macro_micro', 'mention_count', 'neutral',\n",
      "       'positive', 'retweet_count'],\n",
      "      dtype='object')\n"
     ]
    }
   ],
   "source": [
    "M1_f = calculate_vif_(M1_final_users)\n",
    "M2_f = calculate_vif_(M2_final_users)\n",
    "M3_f = calculate_vif_(M3_final_users)\n",
    "M4_f = calculate_vif_(M4_final_users)"
   ]
  },
  {
   "cell_type": "code",
   "execution_count": 7,
   "metadata": {},
   "outputs": [
    {
     "name": "stdout",
     "output_type": "stream",
     "text": [
      "42124.942231949535 0.0\n",
      "6496.213509248579 0.0\n",
      "24535.493186265394 0.0\n",
      "100899.73664962902 0.0\n"
     ]
    }
   ],
   "source": [
    "# Bartlett’s test of sphericity checks whether or not the observed variables \n",
    "# intercorrelate at all using the observed correlation matrix against the identity matrix. \n",
    "# If the test found statistically insignificant, you should not employ a factor analysis.\n",
    "from factor_analyzer import factor_analyzer\n",
    "\n",
    "chi_square_value_M1,p_value_M1 = factor_analyzer.calculate_bartlett_sphericity(M1_f)\n",
    "print(chi_square_value_M1,p_value_M1)\n",
    "chi_square_value_M2,p_value_M2 = factor_analyzer.calculate_bartlett_sphericity(M2_f)\n",
    "print(chi_square_value_M2,p_value_M2)\n",
    "chi_square_value_M3,p_value_M3 = factor_analyzer.calculate_bartlett_sphericity(M3_f)\n",
    "print(chi_square_value_M3,p_value_M3)\n",
    "chi_square_value_M4,p_value_M4 = factor_analyzer.calculate_bartlett_sphericity(M4_f)\n",
    "print(chi_square_value_M4,p_value_M4)"
   ]
  },
  {
   "cell_type": "code",
   "execution_count": 8,
   "metadata": {
    "scrolled": true
   },
   "outputs": [
    {
     "name": "stdout",
     "output_type": "stream",
     "text": [
      "0.6740137792926608\n",
      "0.6198005685181508\n",
      "0.6817274547081452\n",
      "0.62956003657593\n"
     ]
    }
   ],
   "source": [
    "# Kaiser-Meyer-Olkin (KMO) Test measures the suitability of data for factor analysis. \n",
    "# It determines the adequacy for each observed variable and for the complete model. \n",
    "# KMO estimates the proportion of variance among all the observed variable. \n",
    "# Lower proportion id more suitable for factor analysis. \n",
    "# KMO values range between 0 and 1. \n",
    "# Value of KMO less than 0.6 is considered inadequate.\n",
    "\n",
    "from factor_analyzer.factor_analyzer import calculate_kmo\n",
    "kmo_all_M1,kmo_model_M1 = calculate_kmo(M1_f)\n",
    "print(kmo_model_M1)\n",
    "kmo_all_M2,kmo_model_M2 = calculate_kmo(M2_f)\n",
    "print(kmo_model_M2)\n",
    "kmo_all_M3,kmo_model_M3 = calculate_kmo(M3_f)\n",
    "print(kmo_model_M3)\n",
    "kmo_all_M4,kmo_model_M4 = calculate_kmo(M4_f)\n",
    "print(kmo_model_M4)"
   ]
  },
  {
   "cell_type": "code",
   "execution_count": 9,
   "metadata": {},
   "outputs": [],
   "source": [
    "def plot_scree(df,title): \n",
    "    fa = FactorAnalyzer()\n",
    "    fa.fit(df)\n",
    "    eigen_values, vectors = fa.get_eigenvalues()\n",
    "    plt.scatter(range(1,df.shape[1]+1),eigen_values)\n",
    "    plt.plot(range(1,df.shape[1]+1),eigen_values)\n",
    "    plt.title('Scree Plot for '+title)\n",
    "    plt.xlabel('Factors')\n",
    "    plt.ylabel('Eigenvalue')\n",
    "    plt.grid()\n",
    "    plt.show()\n",
    "    return"
   ]
  },
  {
   "cell_type": "code",
   "execution_count": 10,
   "metadata": {},
   "outputs": [
    {
     "data": {
      "image/png": "[encoded data removed]",
      "text/plain": [
       "<Figure size 432x288 with 1 Axes>"
      ]
     },
     "metadata": {
      "needs_background": "light"
     },
     "output_type": "display_data"
    }
   ],
   "source": [
    "plot_scree(M1_f,\"WhyIMarch\")"
   ]
  },
  {
   "cell_type": "code",
   "execution_count": 11,
   "metadata": {},
   "outputs": [
    {
     "data": {
      "image/png": "[encoded data removed]",
      "text/plain": [
       "<Figure size 432x288 with 1 Axes>"
      ]
     },
     "metadata": {
      "needs_background": "light"
     },
     "output_type": "display_data"
    }
   ],
   "source": [
    "plot_scree(M2_f,\"GrabYourWallet\")"
   ]
  },
  {
   "cell_type": "code",
   "execution_count": 12,
   "metadata": {
    "scrolled": false
   },
   "outputs": [],
   "source": [
    "def factor_analysis(df,n_factors):\n",
    "    # Create factor analysis object and perform factor analysis\n",
    "    # Kaiser test choose features with eigenvalues greater than 1\n",
    "#     fa = FactorAnalyzer()\n",
    "#     fa.fit(df)\n",
    "#     eigen_values, vectors = fa.get_eigenvalues()\n",
    "    \n",
    "    fa = FactorAnalyzer()\n",
    "    fa.set_params(n_factors = n_factors, rotation = \"promax\")\n",
    "    fa.fit(df)\n",
    "    loadings = fa.loadings_\n",
    "    #print(fa.get_factor_variance())\n",
    "    loadings = pd.DataFrame(loadings)\n",
    "    loadings.index = list(df.columns)\n",
    "    columns = []\n",
    "    for i in range(n_factors):\n",
    "        columns.append((\"Factor\"+str(i)))\n",
    "    loadings.columns = columns\n",
    "    return loadings\n",
    "\n",
    "\n",
    "# M1_loadings.to_csv(\"./M1_loadings_4.csv\")\n",
    "# M2_loadings.to_csv(\"./M2_loadings_4.csv\")\n",
    "# M3_loadings.to_csv(\"./M3_loadings_4.csv\")\n",
    "# M4_loadings.to_csv(\"./M4_loadings_4.csv\")\n",
    "# M1_loadings = factor_analysis(M1_f)\n",
    "# print(M1_loadings)\n",
    "# M2_loadings = factor_analysis(M2_f)\n",
    "# print(M2_loadings)\n",
    "# M3_loadings = factor_analysis(M3_f)\n",
    "# print(M3_loadings)\n",
    "# M4_loadings = factor_analysis(M4_f)\n",
    "# print(M4_loadings)\n"
   ]
  },
  {
   "cell_type": "markdown",
   "metadata": {},
   "source": [
    "### 4 for M1,M4 3 for M2,M3"
   ]
  },
  {
   "cell_type": "code",
   "execution_count": 13,
   "metadata": {
    "scrolled": true
   },
   "outputs": [
    {
     "name": "stdout",
     "output_type": "stream",
     "text": [
      "                          Factor0   Factor1   Factor2   Factor3\n",
      "education_content_count  0.477844 -0.003595  0.001676  0.013792\n",
      "media_content_count      0.657857 -0.060046  0.003507  0.003195\n",
      "politics_content_count   0.433374 -0.025234  0.002915  0.014220\n",
      "bio_language             0.017068 -0.106663 -0.011931  0.067990\n",
      "community               -0.060547  0.968997 -0.034255  0.158411\n",
      "followers_count          0.004031 -0.006945  0.506221  0.011468\n",
      "is_art                   0.001185  0.019745  0.006404  0.294957\n",
      "is_education             0.010805  0.050960  0.006645  0.294814\n",
      "is_feminist             -0.001747  0.007740 -0.000511  0.158796\n",
      "is_media                -0.006287 -0.001117  0.012506  0.628059\n",
      "is_politics             -0.008145  0.016682  0.007261  0.406101\n",
      "is_sports               -0.004744 -0.012463 -0.002355  0.119102\n",
      "macro_micro             -0.021362  0.808556 -0.027598  0.162962\n",
      "mention_count            0.031494  0.023868 -0.000847 -0.001831\n",
      "neutral                  0.969340 -0.059307  0.003859 -0.045046\n",
      "positive                 0.898059 -0.049735  0.002082 -0.026413\n",
      "retweet_count            0.006848 -0.023174  0.999705  0.029444\n",
      "                          Factor0   Factor1   Factor2\n",
      "education_content_count  0.400022  0.028909  0.054136\n",
      "media_content_count      0.673569 -0.016328 -0.004758\n",
      "politics_content_count   0.336589  0.047856 -0.016207\n",
      "bio_language             0.033407  0.038288  0.235711\n",
      "community               -0.104398  0.779711  0.016045\n",
      "followers_count         -0.007991  0.027459  0.052769\n",
      "is_art                   0.001511 -0.021975  0.334091\n",
      "is_education            -0.009133 -0.036576  0.265412\n",
      "is_feminist              0.008624  0.000539  0.092701\n",
      "is_media                -0.016968 -0.044139  0.718031\n",
      "is_politics             -0.013734 -0.036824  0.536416\n",
      "is_sports                0.004088 -0.027861  0.214425\n",
      "macro_micro             -0.125209  0.926200 -0.022353\n",
      "mention_count           -0.008714 -0.017220  0.002876\n",
      "neutral                  0.590724  0.000772 -0.001420\n",
      "positive                 0.782516 -0.075912  0.006379\n",
      "retweet_count            0.162101 -0.029650  0.000423\n",
      "                          Factor0   Factor1   Factor2\n",
      "education_content_count  0.531221 -0.013634 -0.013413\n",
      "media_content_count      0.496745  0.026159 -0.029323\n",
      "politics_content_count   0.502165 -0.029315 -0.035274\n",
      "bio_language             0.004420 -0.038689  0.143657\n",
      "community               -0.070235  0.965478 -0.142365\n",
      "followers_count          0.012057  0.030105  0.029199\n",
      "is_art                  -0.042855 -0.027448  0.271437\n",
      "is_education            -0.013295 -0.031325  0.218903\n",
      "is_feminist              0.051196 -0.000023  0.064801\n",
      "is_media                -0.080994 -0.066408  0.756823\n",
      "is_politics             -0.022691 -0.037951  0.510607\n",
      "is_sports               -0.034153  0.027299  0.128167\n",
      "macro_micro             -0.087464  0.650143 -0.136933\n",
      "mention_count            0.002554  0.005294  0.007100\n",
      "neutral                  0.834619 -0.048333 -0.055780\n",
      "positive                 0.893109 -0.035975 -0.076465\n",
      "retweet_count            0.253876 -0.016611 -0.020541\n",
      "                          Factor0   Factor1   Factor2   Factor3\n",
      "education_content_count  0.764671 -0.048829 -0.042759 -0.061874\n",
      "media_content_count      0.160628  0.790744  0.006736  0.007492\n",
      "politics_content_count  -0.139231  1.003924  0.014260  0.045046\n",
      "bio_language             0.001972  0.000181  0.117882  0.032292\n",
      "community               -0.028063  0.009758  0.683886 -0.068573\n",
      "followers_count         -0.000862 -0.000335  0.023602  0.071666\n",
      "is_art                  -0.013694  0.005470 -0.016166  0.266613\n",
      "is_education             0.004424 -0.004846 -0.023677  0.220886\n",
      "is_feminist              0.010452 -0.003805 -0.005568  0.101108\n",
      "is_media                -0.029606  0.038966  0.009139  0.703346\n",
      "is_politics             -0.017105  0.011729 -0.027812  0.429802\n",
      "is_sports               -0.010919  0.001891 -0.013905  0.127557\n",
      "macro_micro             -0.047427  0.005737  1.015456 -0.242566\n",
      "mention_count            0.019249 -0.002057  0.005311  0.007995\n",
      "neutral                  0.796163  0.181604 -0.016118 -0.096698\n",
      "positive                 0.929431  0.031134 -0.076356 -0.072697\n",
      "retweet_count            0.144778 -0.013008 -0.005750 -0.001269\n"
     ]
    }
   ],
   "source": [
    "M1_loadings = factor_analysis(M1_f,4)\n",
    "print(M1_loadings)\n",
    "M2_loadings = factor_analysis(M2_f,3)\n",
    "print(M2_loadings)\n",
    "M3_loadings = factor_analysis(M3_f,3)\n",
    "print(M3_loadings)\n",
    "M4_loadings = factor_analysis(M4_f,4)\n",
    "print(M4_loadings)"
   ]
  },
  {
   "cell_type": "code",
   "execution_count": 15,
   "metadata": {},
   "outputs": [
    {
     "data": {
      "text/html": [
       "<div>\n",
       "<style scoped>\n",
       "    .dataframe tbody tr th:only-of-type {\n",
       "        vertical-align: middle;\n",
       "    }\n",
       "\n",
       "    .dataframe tbody tr th {\n",
       "        vertical-align: top;\n",
       "    }\n",
       "\n",
       "    .dataframe thead th {\n",
       "        text-align: right;\n",
       "    }\n",
       "</style>\n",
       "<table border=\"1\" class=\"dataframe\">\n",
       "  <thead>\n",
       "    <tr style=\"text-align: right;\">\n",
       "      <th></th>\n",
       "      <th>education_content_count</th>\n",
       "      <th>media_content_count</th>\n",
       "      <th>politics_content_count</th>\n",
       "      <th>bio_language</th>\n",
       "      <th>community</th>\n",
       "      <th>followers_count</th>\n",
       "      <th>is_art</th>\n",
       "      <th>is_education</th>\n",
       "      <th>is_feminist</th>\n",
       "      <th>is_media</th>\n",
       "      <th>is_politics</th>\n",
       "      <th>is_sports</th>\n",
       "      <th>macro_micro</th>\n",
       "      <th>mention_count</th>\n",
       "      <th>neutral</th>\n",
       "      <th>positive</th>\n",
       "      <th>retweet_count</th>\n",
       "    </tr>\n",
       "  </thead>\n",
       "  <tbody>\n",
       "    <tr>\n",
       "      <td>0</td>\n",
       "      <td>0.0</td>\n",
       "      <td>0.0</td>\n",
       "      <td>0.0</td>\n",
       "      <td>0</td>\n",
       "      <td>7</td>\n",
       "      <td>19.0</td>\n",
       "      <td>0.0</td>\n",
       "      <td>0.0</td>\n",
       "      <td>0.0</td>\n",
       "      <td>0.0</td>\n",
       "      <td>0.0</td>\n",
       "      <td>0.0</td>\n",
       "      <td>0</td>\n",
       "      <td>0</td>\n",
       "      <td>1.0</td>\n",
       "      <td>0.0</td>\n",
       "      <td>0</td>\n",
       "    </tr>\n",
       "    <tr>\n",
       "      <td>1</td>\n",
       "      <td>0.0</td>\n",
       "      <td>0.0</td>\n",
       "      <td>0.0</td>\n",
       "      <td>10</td>\n",
       "      <td>16</td>\n",
       "      <td>1357.0</td>\n",
       "      <td>0.0</td>\n",
       "      <td>0.0</td>\n",
       "      <td>0.0</td>\n",
       "      <td>0.0</td>\n",
       "      <td>0.0</td>\n",
       "      <td>0.0</td>\n",
       "      <td>0</td>\n",
       "      <td>0</td>\n",
       "      <td>4.0</td>\n",
       "      <td>1.0</td>\n",
       "      <td>0</td>\n",
       "    </tr>\n",
       "    <tr>\n",
       "      <td>2</td>\n",
       "      <td>0.0</td>\n",
       "      <td>0.0</td>\n",
       "      <td>0.0</td>\n",
       "      <td>10</td>\n",
       "      <td>21</td>\n",
       "      <td>2746.0</td>\n",
       "      <td>0.0</td>\n",
       "      <td>0.0</td>\n",
       "      <td>0.0</td>\n",
       "      <td>0.0</td>\n",
       "      <td>0.0</td>\n",
       "      <td>0.0</td>\n",
       "      <td>1</td>\n",
       "      <td>0</td>\n",
       "      <td>3.0</td>\n",
       "      <td>0.0</td>\n",
       "      <td>2</td>\n",
       "    </tr>\n",
       "    <tr>\n",
       "      <td>3</td>\n",
       "      <td>0.0</td>\n",
       "      <td>0.0</td>\n",
       "      <td>0.0</td>\n",
       "      <td>20</td>\n",
       "      <td>1</td>\n",
       "      <td>87.0</td>\n",
       "      <td>0.0</td>\n",
       "      <td>0.0</td>\n",
       "      <td>0.0</td>\n",
       "      <td>0.0</td>\n",
       "      <td>0.0</td>\n",
       "      <td>0.0</td>\n",
       "      <td>0</td>\n",
       "      <td>0</td>\n",
       "      <td>0.0</td>\n",
       "      <td>1.0</td>\n",
       "      <td>0</td>\n",
       "    </tr>\n",
       "    <tr>\n",
       "      <td>4</td>\n",
       "      <td>0.0</td>\n",
       "      <td>0.0</td>\n",
       "      <td>0.0</td>\n",
       "      <td>0</td>\n",
       "      <td>3</td>\n",
       "      <td>83.0</td>\n",
       "      <td>0.0</td>\n",
       "      <td>0.0</td>\n",
       "      <td>0.0</td>\n",
       "      <td>0.0</td>\n",
       "      <td>0.0</td>\n",
       "      <td>0.0</td>\n",
       "      <td>0</td>\n",
       "      <td>0</td>\n",
       "      <td>1.0</td>\n",
       "      <td>1.0</td>\n",
       "      <td>0</td>\n",
       "    </tr>\n",
       "  </tbody>\n",
       "</table>\n",
       "</div>"
      ],
      "text/plain": [
       "   education_content_count  media_content_count  politics_content_count  \\\n",
       "0                      0.0                  0.0                     0.0   \n",
       "1                      0.0                  0.0                     0.0   \n",
       "2                      0.0                  0.0                     0.0   \n",
       "3                      0.0                  0.0                     0.0   \n",
       "4                      0.0                  0.0                     0.0   \n",
       "\n",
       "   bio_language  community  followers_count  is_art  is_education  \\\n",
       "0             0          7             19.0     0.0           0.0   \n",
       "1            10         16           1357.0     0.0           0.0   \n",
       "2            10         21           2746.0     0.0           0.0   \n",
       "3            20          1             87.0     0.0           0.0   \n",
       "4             0          3             83.0     0.0           0.0   \n",
       "\n",
       "   is_feminist  is_media  is_politics  is_sports  macro_micro  mention_count  \\\n",
       "0          0.0       0.0          0.0        0.0            0              0   \n",
       "1          0.0       0.0          0.0        0.0            0              0   \n",
       "2          0.0       0.0          0.0        0.0            1              0   \n",
       "3          0.0       0.0          0.0        0.0            0              0   \n",
       "4          0.0       0.0          0.0        0.0            0              0   \n",
       "\n",
       "   neutral  positive  retweet_count  \n",
       "0      1.0       0.0              0  \n",
       "1      4.0       1.0              0  \n",
       "2      3.0       0.0              2  \n",
       "3      0.0       1.0              0  \n",
       "4      1.0       1.0              0  "
      ]
     },
     "execution_count": 15,
     "metadata": {},
     "output_type": "execute_result"
    }
   ],
   "source": [
    "M1_f.head()"
   ]
  },
  {
   "cell_type": "code",
   "execution_count": 34,
   "metadata": {},
   "outputs": [
    {
     "name": "stdout",
     "output_type": "stream",
     "text": [
      "========================= FOR M1 ==========================\n"
     ]
    },
    {
     "data": {
      "text/plain": [
       "array([[-5.91215340e-02,  1.73115544e-04,  2.79189010e-05,\n",
       "        -3.34551465e-01],\n",
       "       [-5.03210154e-02,  1.73115544e-04,  2.79189010e-05,\n",
       "        -3.44487540e-01],\n",
       "       [-4.11850426e-02,  1.73115544e-04,  2.79189010e-05,\n",
       "         7.76849479e-01],\n",
       "       ...,\n",
       "       [-5.92465544e-02,  1.73115544e-04,  2.79189010e-05,\n",
       "         7.36093320e-01],\n",
       "       [-5.92465623e-02,  1.73115544e-04,  2.79189010e-05,\n",
       "         7.48395440e-01],\n",
       "       [-5.92465639e-02,  1.73115544e-04,  2.79189010e-05,\n",
       "         7.52496146e-01]])"
      ]
     },
     "execution_count": 34,
     "metadata": {},
     "output_type": "execute_result"
    }
   ],
   "source": [
    "from factor_analyzer import (ConfirmatoryFactorAnalyzer, ModelSpecificationParser)\n",
    "\n",
    "print(\"========================= FOR M1 ==========================\")\n",
    "model_dict_M1 = {\"Comm_content\":[\"education_content_count\",\"media_content_count\",\"politics_content_count\",\"neutral\",\"positive\",\"mention_count\"], \\\n",
    "                 \"Status\":[\"community\",\"macro_micro\"],\"Response\":[\"followers_count\",\"retweet_count\"], \\\n",
    "                 \"Identity\":[\"bio_language\",\"is_art\",\"is_education\",\"is_feminist\",\"is_media\",\"is_politics\",\"is_sports\"]}\n",
    "model_spec_M1 = ModelSpecificationParser.parse_model_specification_from_dict(M1_f, model_dict_M1)\n",
    "cfa_M1 = ConfirmatoryFactorAnalyzer(model_spec_M1,disp=False)\n",
    "cfa_M1.fit(M1_f.values)\n",
    "cfa_M1.transform(M1_f.values)"
   ]
  },
  {
   "cell_type": "code",
   "execution_count": null,
   "metadata": {
    "scrolled": true
   },
   "outputs": [],
   "source": []
  },
  {
   "cell_type": "code",
   "execution_count": null,
   "metadata": {},
   "outputs": [],
   "source": []
  },
  {
   "cell_type": "code",
   "execution_count": 24,
   "metadata": {},
   "outputs": [
    {
     "name": "stdout",
     "output_type": "stream",
     "text": [
      "========================= FOR M2 ==========================\n"
     ]
    },
    {
     "data": {
      "text/plain": [
       "ConfirmatoryFactorAnalyzer(bounds=None, disp=False, impute='median',\n",
       "                           is_cov_matrix=False, max_iter=200, n_obs=3111,\n",
       "                           specification=<factor_analyzer.confirmatory_factor_analyzer.ModelSpecification object at 0x7fae91124da0>,\n",
       "                           tol=None)"
      ]
     },
     "execution_count": 24,
     "metadata": {},
     "output_type": "execute_result"
    }
   ],
   "source": [
    "print(\"========================= FOR M2 ==========================\")\n",
    "model_dict_M2 = {\"Comm_content\":[\"education_content_count\",\"media_content_count\",\"politics_content_count\",\"neutral\",\"positive\",\"retweet_count\"], \\\n",
    "                \"Status\":[\"community\",\"macro_micro\"], \\\n",
    "                \"Identity\":[\"followers_count\",\"is_feminist\",\"mention_count\",\"bio_language\",\"is_art\",\"is_education\",\"is_media\",\"is_politics\",\"is_sports\"]}\n",
    "model_spec_M2 = ModelSpecificationParser.parse_model_specification_from_dict(M2_f, model_dict_M2)\n",
    "cfa_M2 = ConfirmatoryFactorAnalyzer(model_spec_M2,disp=False)\n",
    "cfa_M2.fit(M2_f.values)"
   ]
  },
  {
   "cell_type": "code",
   "execution_count": 26,
   "metadata": {},
   "outputs": [
    {
     "data": {
      "text/html": [
       "<div>\n",
       "<style scoped>\n",
       "    .dataframe tbody tr th:only-of-type {\n",
       "        vertical-align: middle;\n",
       "    }\n",
       "\n",
       "    .dataframe tbody tr th {\n",
       "        vertical-align: top;\n",
       "    }\n",
       "\n",
       "    .dataframe thead th {\n",
       "        text-align: right;\n",
       "    }\n",
       "</style>\n",
       "<table border=\"1\" class=\"dataframe\">\n",
       "  <thead>\n",
       "    <tr style=\"text-align: right;\">\n",
       "      <th></th>\n",
       "      <th>0</th>\n",
       "      <th>1</th>\n",
       "      <th>2</th>\n",
       "    </tr>\n",
       "  </thead>\n",
       "  <tbody>\n",
       "    <tr>\n",
       "      <td>0</td>\n",
       "      <td>5.275462e+06</td>\n",
       "      <td>0.000000</td>\n",
       "      <td>0.000000e+00</td>\n",
       "    </tr>\n",
       "    <tr>\n",
       "      <td>1</td>\n",
       "      <td>-1.964209e+07</td>\n",
       "      <td>0.000000</td>\n",
       "      <td>0.000000e+00</td>\n",
       "    </tr>\n",
       "    <tr>\n",
       "      <td>2</td>\n",
       "      <td>-1.221718e+06</td>\n",
       "      <td>0.000000</td>\n",
       "      <td>0.000000e+00</td>\n",
       "    </tr>\n",
       "    <tr>\n",
       "      <td>3</td>\n",
       "      <td>4.192090e+06</td>\n",
       "      <td>0.000000</td>\n",
       "      <td>0.000000e+00</td>\n",
       "    </tr>\n",
       "    <tr>\n",
       "      <td>4</td>\n",
       "      <td>2.622980e+07</td>\n",
       "      <td>0.000000</td>\n",
       "      <td>0.000000e+00</td>\n",
       "    </tr>\n",
       "    <tr>\n",
       "      <td>5</td>\n",
       "      <td>1.947653e+05</td>\n",
       "      <td>0.000000</td>\n",
       "      <td>0.000000e+00</td>\n",
       "    </tr>\n",
       "    <tr>\n",
       "      <td>6</td>\n",
       "      <td>0.000000e+00</td>\n",
       "      <td>503539.078450</td>\n",
       "      <td>0.000000e+00</td>\n",
       "    </tr>\n",
       "    <tr>\n",
       "      <td>7</td>\n",
       "      <td>0.000000e+00</td>\n",
       "      <td>500487.326614</td>\n",
       "      <td>0.000000e+00</td>\n",
       "    </tr>\n",
       "    <tr>\n",
       "      <td>8</td>\n",
       "      <td>0.000000e+00</td>\n",
       "      <td>0.000000</td>\n",
       "      <td>1.204834e+07</td>\n",
       "    </tr>\n",
       "    <tr>\n",
       "      <td>9</td>\n",
       "      <td>0.000000e+00</td>\n",
       "      <td>0.000000</td>\n",
       "      <td>1.148274e+07</td>\n",
       "    </tr>\n",
       "    <tr>\n",
       "      <td>10</td>\n",
       "      <td>0.000000e+00</td>\n",
       "      <td>0.000000</td>\n",
       "      <td>1.182963e+07</td>\n",
       "    </tr>\n",
       "    <tr>\n",
       "      <td>11</td>\n",
       "      <td>0.000000e+00</td>\n",
       "      <td>0.000000</td>\n",
       "      <td>1.205546e+07</td>\n",
       "    </tr>\n",
       "    <tr>\n",
       "      <td>12</td>\n",
       "      <td>0.000000e+00</td>\n",
       "      <td>0.000000</td>\n",
       "      <td>1.050618e+07</td>\n",
       "    </tr>\n",
       "    <tr>\n",
       "      <td>13</td>\n",
       "      <td>0.000000e+00</td>\n",
       "      <td>0.000000</td>\n",
       "      <td>1.179707e+07</td>\n",
       "    </tr>\n",
       "    <tr>\n",
       "      <td>14</td>\n",
       "      <td>0.000000e+00</td>\n",
       "      <td>0.000000</td>\n",
       "      <td>-6.815166e+04</td>\n",
       "    </tr>\n",
       "    <tr>\n",
       "      <td>15</td>\n",
       "      <td>0.000000e+00</td>\n",
       "      <td>0.000000</td>\n",
       "      <td>9.663905e+05</td>\n",
       "    </tr>\n",
       "    <tr>\n",
       "      <td>16</td>\n",
       "      <td>0.000000e+00</td>\n",
       "      <td>0.000000</td>\n",
       "      <td>-4.958798e+06</td>\n",
       "    </tr>\n",
       "  </tbody>\n",
       "</table>\n",
       "</div>"
      ],
      "text/plain": [
       "               0              1             2\n",
       "0   5.275462e+06       0.000000  0.000000e+00\n",
       "1  -1.964209e+07       0.000000  0.000000e+00\n",
       "2  -1.221718e+06       0.000000  0.000000e+00\n",
       "3   4.192090e+06       0.000000  0.000000e+00\n",
       "4   2.622980e+07       0.000000  0.000000e+00\n",
       "5   1.947653e+05       0.000000  0.000000e+00\n",
       "6   0.000000e+00  503539.078450  0.000000e+00\n",
       "7   0.000000e+00  500487.326614  0.000000e+00\n",
       "8   0.000000e+00       0.000000  1.204834e+07\n",
       "9   0.000000e+00       0.000000  1.148274e+07\n",
       "10  0.000000e+00       0.000000  1.182963e+07\n",
       "11  0.000000e+00       0.000000  1.205546e+07\n",
       "12  0.000000e+00       0.000000  1.050618e+07\n",
       "13  0.000000e+00       0.000000  1.179707e+07\n",
       "14  0.000000e+00       0.000000 -6.815166e+04\n",
       "15  0.000000e+00       0.000000  9.663905e+05\n",
       "16  0.000000e+00       0.000000 -4.958798e+06"
      ]
     },
     "execution_count": 26,
     "metadata": {},
     "output_type": "execute_result"
    }
   ],
   "source": [
    "pd.DataFrame(cfa_M2.loadings_)"
   ]
  },
  {
   "cell_type": "code",
   "execution_count": 27,
   "metadata": {},
   "outputs": [
    {
     "name": "stdout",
     "output_type": "stream",
     "text": [
      "========================= FOR M3 ==========================\n"
     ]
    },
    {
     "data": {
      "text/plain": [
       "ConfirmatoryFactorAnalyzer(bounds=None, disp=False, impute='median',\n",
       "                           is_cov_matrix=False, max_iter=200, n_obs=10478,\n",
       "                           specification=<factor_analyzer.confirmatory_factor_analyzer.ModelSpecification object at 0x7fae900ada20>,\n",
       "                           tol=None)"
      ]
     },
     "execution_count": 27,
     "metadata": {},
     "output_type": "execute_result"
    }
   ],
   "source": [
    "print(\"========================= FOR M3 ==========================\")\n",
    "model_dict_M3 = {\"Comm_content\":[\"education_content_count\",\"media_content_count\",\"politics_content_count\",\"neutral\",\"positive\",\"retweet_count\"], \\\n",
    "                \"Status\":[\"community\",\"macro_micro\",\"followers_count\",\"mention_count\"], \\\n",
    "                \"Identity\":[\"bio_language\",\"is_art\",\"is_education\",\"is_feminist\",\"is_media\",\"is_politics\",\"is_sports\"]}\n",
    "model_spec_M3 = ModelSpecificationParser.parse_model_specification_from_dict(M3_f, model_dict_M3)\n",
    "cfa_M3 = ConfirmatoryFactorAnalyzer(model_spec_M3,disp=False)\n",
    "cfa_M3.fit(M3_f.values)"
   ]
  },
  {
   "cell_type": "code",
   "execution_count": 29,
   "metadata": {},
   "outputs": [
    {
     "data": {
      "text/html": [
       "<div>\n",
       "<style scoped>\n",
       "    .dataframe tbody tr th:only-of-type {\n",
       "        vertical-align: middle;\n",
       "    }\n",
       "\n",
       "    .dataframe tbody tr th {\n",
       "        vertical-align: top;\n",
       "    }\n",
       "\n",
       "    .dataframe thead th {\n",
       "        text-align: right;\n",
       "    }\n",
       "</style>\n",
       "<table border=\"1\" class=\"dataframe\">\n",
       "  <thead>\n",
       "    <tr style=\"text-align: right;\">\n",
       "      <th></th>\n",
       "      <th>0</th>\n",
       "      <th>1</th>\n",
       "      <th>2</th>\n",
       "    </tr>\n",
       "  </thead>\n",
       "  <tbody>\n",
       "    <tr>\n",
       "      <td>0</td>\n",
       "      <td>-368.684885</td>\n",
       "      <td>0.000000</td>\n",
       "      <td>0.000000</td>\n",
       "    </tr>\n",
       "    <tr>\n",
       "      <td>1</td>\n",
       "      <td>-267.094892</td>\n",
       "      <td>0.000000</td>\n",
       "      <td>0.000000</td>\n",
       "    </tr>\n",
       "    <tr>\n",
       "      <td>2</td>\n",
       "      <td>-225.225079</td>\n",
       "      <td>0.000000</td>\n",
       "      <td>0.000000</td>\n",
       "    </tr>\n",
       "    <tr>\n",
       "      <td>3</td>\n",
       "      <td>1939.739054</td>\n",
       "      <td>0.000000</td>\n",
       "      <td>0.000000</td>\n",
       "    </tr>\n",
       "    <tr>\n",
       "      <td>4</td>\n",
       "      <td>1253.178573</td>\n",
       "      <td>0.000000</td>\n",
       "      <td>0.000000</td>\n",
       "    </tr>\n",
       "    <tr>\n",
       "      <td>5</td>\n",
       "      <td>714847.927820</td>\n",
       "      <td>0.000000</td>\n",
       "      <td>0.000000</td>\n",
       "    </tr>\n",
       "    <tr>\n",
       "      <td>6</td>\n",
       "      <td>0.000000</td>\n",
       "      <td>-742.866042</td>\n",
       "      <td>0.000000</td>\n",
       "    </tr>\n",
       "    <tr>\n",
       "      <td>7</td>\n",
       "      <td>0.000000</td>\n",
       "      <td>-744.280171</td>\n",
       "      <td>0.000000</td>\n",
       "    </tr>\n",
       "    <tr>\n",
       "      <td>8</td>\n",
       "      <td>0.000000</td>\n",
       "      <td>-738.364467</td>\n",
       "      <td>0.000000</td>\n",
       "    </tr>\n",
       "    <tr>\n",
       "      <td>9</td>\n",
       "      <td>0.000000</td>\n",
       "      <td>-741.887528</td>\n",
       "      <td>0.000000</td>\n",
       "    </tr>\n",
       "    <tr>\n",
       "      <td>10</td>\n",
       "      <td>0.000000</td>\n",
       "      <td>0.000000</td>\n",
       "      <td>1082.859287</td>\n",
       "    </tr>\n",
       "    <tr>\n",
       "      <td>11</td>\n",
       "      <td>0.000000</td>\n",
       "      <td>0.000000</td>\n",
       "      <td>1077.245512</td>\n",
       "    </tr>\n",
       "    <tr>\n",
       "      <td>12</td>\n",
       "      <td>0.000000</td>\n",
       "      <td>0.000000</td>\n",
       "      <td>1114.262905</td>\n",
       "    </tr>\n",
       "    <tr>\n",
       "      <td>13</td>\n",
       "      <td>0.000000</td>\n",
       "      <td>0.000000</td>\n",
       "      <td>1165.139244</td>\n",
       "    </tr>\n",
       "    <tr>\n",
       "      <td>14</td>\n",
       "      <td>0.000000</td>\n",
       "      <td>0.000000</td>\n",
       "      <td>-271.467777</td>\n",
       "    </tr>\n",
       "    <tr>\n",
       "      <td>15</td>\n",
       "      <td>0.000000</td>\n",
       "      <td>0.000000</td>\n",
       "      <td>-475.061348</td>\n",
       "    </tr>\n",
       "    <tr>\n",
       "      <td>16</td>\n",
       "      <td>0.000000</td>\n",
       "      <td>0.000000</td>\n",
       "      <td>4300.544777</td>\n",
       "    </tr>\n",
       "  </tbody>\n",
       "</table>\n",
       "</div>"
      ],
      "text/plain": [
       "                0           1            2\n",
       "0     -368.684885    0.000000     0.000000\n",
       "1     -267.094892    0.000000     0.000000\n",
       "2     -225.225079    0.000000     0.000000\n",
       "3     1939.739054    0.000000     0.000000\n",
       "4     1253.178573    0.000000     0.000000\n",
       "5   714847.927820    0.000000     0.000000\n",
       "6        0.000000 -742.866042     0.000000\n",
       "7        0.000000 -744.280171     0.000000\n",
       "8        0.000000 -738.364467     0.000000\n",
       "9        0.000000 -741.887528     0.000000\n",
       "10       0.000000    0.000000  1082.859287\n",
       "11       0.000000    0.000000  1077.245512\n",
       "12       0.000000    0.000000  1114.262905\n",
       "13       0.000000    0.000000  1165.139244\n",
       "14       0.000000    0.000000  -271.467777\n",
       "15       0.000000    0.000000  -475.061348\n",
       "16       0.000000    0.000000  4300.544777"
      ]
     },
     "execution_count": 29,
     "metadata": {},
     "output_type": "execute_result"
    }
   ],
   "source": [
    "pd.DataFrame(cfa_M3.loadings_)"
   ]
  },
  {
   "cell_type": "code",
   "execution_count": 30,
   "metadata": {},
   "outputs": [
    {
     "name": "stdout",
     "output_type": "stream",
     "text": [
      "========================= FOR M4 ==========================\n"
     ]
    },
    {
     "data": {
      "text/plain": [
       "ConfirmatoryFactorAnalyzer(bounds=None, disp=False, impute='median',\n",
       "                           is_cov_matrix=False, max_iter=200, n_obs=27331,\n",
       "                           specification=<factor_analyzer.confirmatory_factor_analyzer.ModelSpecification object at 0x7fae8f5a9c18>,\n",
       "                           tol=None)"
      ]
     },
     "execution_count": 30,
     "metadata": {},
     "output_type": "execute_result"
    }
   ],
   "source": [
    "print(\"========================= FOR M4 ==========================\")\n",
    "model_dict_M4 = {\"Comm_content\":[\"mention_count\",\"retweet_count\",\"education_content_count\",\"media_content_count\",\"politics_content_count\",\"neutral\",\"positive\"], \\\n",
    "                \"Status\":[\"bio_language\",\"comomunity\",\"macro_micro\"], \\\n",
    "                 \"Identity\":[\"followers_count\",\"is_art\",\"is_education\",\"is_feminist\",\"is_media\",\"is_politics\",\"is_sports\"]}\n",
    "model_spec_M4 = ModelSpecificationParser.parse_model_specification_from_dict(M4_f, model_dict_M4)\n",
    "cfa_M4 = ConfirmatoryFactorAnalyzer(model_spec_M4,disp=False)\n",
    "cfa_M4.fit(M4_f.values)"
   ]
  },
  {
   "cell_type": "code",
   "execution_count": 31,
   "metadata": {},
   "outputs": [
    {
     "data": {
      "text/html": [
       "<div>\n",
       "<style scoped>\n",
       "    .dataframe tbody tr th:only-of-type {\n",
       "        vertical-align: middle;\n",
       "    }\n",
       "\n",
       "    .dataframe tbody tr th {\n",
       "        vertical-align: top;\n",
       "    }\n",
       "\n",
       "    .dataframe thead th {\n",
       "        text-align: right;\n",
       "    }\n",
       "</style>\n",
       "<table border=\"1\" class=\"dataframe\">\n",
       "  <thead>\n",
       "    <tr style=\"text-align: right;\">\n",
       "      <th></th>\n",
       "      <th>0</th>\n",
       "      <th>1</th>\n",
       "      <th>2</th>\n",
       "    </tr>\n",
       "  </thead>\n",
       "  <tbody>\n",
       "    <tr>\n",
       "      <td>0</td>\n",
       "      <td>-2.703048e+14</td>\n",
       "      <td>0.000000e+00</td>\n",
       "      <td>0.000000e+00</td>\n",
       "    </tr>\n",
       "    <tr>\n",
       "      <td>1</td>\n",
       "      <td>-2.699239e+14</td>\n",
       "      <td>0.000000e+00</td>\n",
       "      <td>0.000000e+00</td>\n",
       "    </tr>\n",
       "    <tr>\n",
       "      <td>2</td>\n",
       "      <td>-2.698200e+14</td>\n",
       "      <td>0.000000e+00</td>\n",
       "      <td>0.000000e+00</td>\n",
       "    </tr>\n",
       "    <tr>\n",
       "      <td>3</td>\n",
       "      <td>-2.684759e+14</td>\n",
       "      <td>0.000000e+00</td>\n",
       "      <td>0.000000e+00</td>\n",
       "    </tr>\n",
       "    <tr>\n",
       "      <td>4</td>\n",
       "      <td>-2.643342e+14</td>\n",
       "      <td>0.000000e+00</td>\n",
       "      <td>0.000000e+00</td>\n",
       "    </tr>\n",
       "    <tr>\n",
       "      <td>5</td>\n",
       "      <td>3.350029e+12</td>\n",
       "      <td>0.000000e+00</td>\n",
       "      <td>0.000000e+00</td>\n",
       "    </tr>\n",
       "    <tr>\n",
       "      <td>6</td>\n",
       "      <td>-2.695696e+14</td>\n",
       "      <td>0.000000e+00</td>\n",
       "      <td>0.000000e+00</td>\n",
       "    </tr>\n",
       "    <tr>\n",
       "      <td>7</td>\n",
       "      <td>0.000000e+00</td>\n",
       "      <td>-1.305933e+14</td>\n",
       "      <td>0.000000e+00</td>\n",
       "    </tr>\n",
       "    <tr>\n",
       "      <td>8</td>\n",
       "      <td>0.000000e+00</td>\n",
       "      <td>-1.305885e+14</td>\n",
       "      <td>0.000000e+00</td>\n",
       "    </tr>\n",
       "    <tr>\n",
       "      <td>9</td>\n",
       "      <td>0.000000e+00</td>\n",
       "      <td>-1.305978e+14</td>\n",
       "      <td>0.000000e+00</td>\n",
       "    </tr>\n",
       "    <tr>\n",
       "      <td>10</td>\n",
       "      <td>0.000000e+00</td>\n",
       "      <td>0.000000e+00</td>\n",
       "      <td>-1.384721e+13</td>\n",
       "    </tr>\n",
       "    <tr>\n",
       "      <td>11</td>\n",
       "      <td>0.000000e+00</td>\n",
       "      <td>0.000000e+00</td>\n",
       "      <td>-1.384725e+13</td>\n",
       "    </tr>\n",
       "    <tr>\n",
       "      <td>12</td>\n",
       "      <td>0.000000e+00</td>\n",
       "      <td>0.000000e+00</td>\n",
       "      <td>-1.384684e+13</td>\n",
       "    </tr>\n",
       "    <tr>\n",
       "      <td>13</td>\n",
       "      <td>0.000000e+00</td>\n",
       "      <td>0.000000e+00</td>\n",
       "      <td>-1.384410e+13</td>\n",
       "    </tr>\n",
       "    <tr>\n",
       "      <td>14</td>\n",
       "      <td>0.000000e+00</td>\n",
       "      <td>0.000000e+00</td>\n",
       "      <td>-1.240408e+13</td>\n",
       "    </tr>\n",
       "    <tr>\n",
       "      <td>15</td>\n",
       "      <td>0.000000e+00</td>\n",
       "      <td>0.000000e+00</td>\n",
       "      <td>-1.264275e+13</td>\n",
       "    </tr>\n",
       "    <tr>\n",
       "      <td>16</td>\n",
       "      <td>0.000000e+00</td>\n",
       "      <td>0.000000e+00</td>\n",
       "      <td>2.007705e+13</td>\n",
       "    </tr>\n",
       "  </tbody>\n",
       "</table>\n",
       "</div>"
      ],
      "text/plain": [
       "               0             1             2\n",
       "0  -2.703048e+14  0.000000e+00  0.000000e+00\n",
       "1  -2.699239e+14  0.000000e+00  0.000000e+00\n",
       "2  -2.698200e+14  0.000000e+00  0.000000e+00\n",
       "3  -2.684759e+14  0.000000e+00  0.000000e+00\n",
       "4  -2.643342e+14  0.000000e+00  0.000000e+00\n",
       "5   3.350029e+12  0.000000e+00  0.000000e+00\n",
       "6  -2.695696e+14  0.000000e+00  0.000000e+00\n",
       "7   0.000000e+00 -1.305933e+14  0.000000e+00\n",
       "8   0.000000e+00 -1.305885e+14  0.000000e+00\n",
       "9   0.000000e+00 -1.305978e+14  0.000000e+00\n",
       "10  0.000000e+00  0.000000e+00 -1.384721e+13\n",
       "11  0.000000e+00  0.000000e+00 -1.384725e+13\n",
       "12  0.000000e+00  0.000000e+00 -1.384684e+13\n",
       "13  0.000000e+00  0.000000e+00 -1.384410e+13\n",
       "14  0.000000e+00  0.000000e+00 -1.240408e+13\n",
       "15  0.000000e+00  0.000000e+00 -1.264275e+13\n",
       "16  0.000000e+00  0.000000e+00  2.007705e+13"
      ]
     },
     "execution_count": 31,
     "metadata": {},
     "output_type": "execute_result"
    }
   ],
   "source": [
    "pd.DataFrame(cfa_M4.loadings_)"
   ]
  },
  {
   "cell_type": "code",
   "execution_count": null,
   "metadata": {},
   "outputs": [],
   "source": []
  },
  {
   "cell_type": "code",
   "execution_count": null,
   "metadata": {},
   "outputs": [],
   "source": []
  },
  {
   "cell_type": "code",
   "execution_count": null,
   "metadata": {},
   "outputs": [],
   "source": []
  },
  {
   "cell_type": "code",
   "execution_count": null,
   "metadata": {},
   "outputs": [],
   "source": []
  },
  {
   "cell_type": "code",
   "execution_count": null,
   "metadata": {},
   "outputs": [],
   "source": []
  },
  {
   "cell_type": "code",
   "execution_count": 124,
   "metadata": {},
   "outputs": [],
   "source": [
    "# 4 or 6\n",
    "# is_education split into is_acad/is_prof\n",
    "# add more features\n",
    "# hashtag classification\n",
    "# intent analysis API"
   ]
  },
  {
   "cell_type": "code",
   "execution_count": 142,
   "metadata": {
    "scrolled": false
   },
   "outputs": [
    {
     "data": {
      "image/png": "[encoded data removed]",
      "text/plain": [
       "<Figure size 432x288 with 1 Axes>"
      ]
     },
     "metadata": {
      "needs_background": "light"
     },
     "output_type": "display_data"
    },
    {
     "name": "stdout",
     "output_type": "stream",
     "text": [
      "                          Factor0   Factor1   Factor2   Factor3   Factor4  \\\n",
      "education_content_count  0.194403  0.102071 -0.006301 -0.069837  0.789824   \n",
      "media_content_count      0.629268 -0.051363  0.001672  0.022875  0.097041   \n",
      "politics_content_count   0.461172 -0.033184  0.002980  0.024219 -0.022920   \n",
      "bio_language             0.016073 -0.106766 -0.011227 -0.022674 -0.009899   \n",
      "community               -0.059487  1.010338 -0.028827 -0.014490  0.026613   \n",
      "followers_count          0.004610 -0.010822  0.506396 -0.003341 -0.005600   \n",
      "is_art                  -0.007936  0.023469  0.011416 -0.070285 -0.007096   \n",
      "is_education            -0.021467  0.064456  0.009909 -0.036494  0.050250   \n",
      "is_feminist             -0.001272  0.010670  0.000691  0.003676 -0.006428   \n",
      "is_media                -0.001196  0.033918  0.008656  0.138226  0.009899   \n",
      "is_politics              0.091952  0.018371 -0.006492  0.983690 -0.078847   \n",
      "is_sports               -0.005368 -0.008682 -0.002248  0.024492  0.000433   \n",
      "macro_micro             -0.033455  0.789706 -0.021854  0.004210  0.066245   \n",
      "mention_count            0.041035  0.019867 -0.000155 -0.006571 -0.018361   \n",
      "neutral                  0.909357 -0.045288  0.001158  0.028418  0.161796   \n",
      "positive                 0.889455 -0.048357  0.000482  0.031131  0.088207   \n",
      "retweet_count            0.001332 -0.028217  0.999658 -0.000885  0.002508   \n",
      "\n",
      "                          Factor5  \n",
      "education_content_count  0.067303  \n",
      "media_content_count     -0.015829  \n",
      "politics_content_count   0.001285  \n",
      "bio_language             0.107595  \n",
      "community                0.110445  \n",
      "followers_count          0.009812  \n",
      "is_art                   0.408647  \n",
      "is_education             0.371062  \n",
      "is_feminist              0.176556  \n",
      "is_media                 0.436764  \n",
      "is_politics              0.086158  \n",
      "is_sports                0.116964  \n",
      "macro_micro              0.113040  \n",
      "mention_count            0.004730  \n",
      "neutral                 -0.064659  \n",
      "positive                -0.047140  \n",
      "retweet_count            0.023670  \n"
     ]
    },
    {
     "data": {
      "image/png": "[encoded data removed]",
      "text/plain": [
       "<Figure size 432x288 with 1 Axes>"
      ]
     },
     "metadata": {
      "needs_background": "light"
     },
     "output_type": "display_data"
    },
    {
     "name": "stdout",
     "output_type": "stream",
     "text": [
      "                          Factor0   Factor1   Factor2   Factor3   Factor4  \\\n",
      "education_content_count -0.013683 -0.054784  0.036145  0.022545  0.552999   \n",
      "media_content_count     -0.059410  0.144572  0.015264  0.000179  0.653155   \n",
      "politics_content_count   0.016512 -0.003681  0.025825 -0.016081  0.408228   \n",
      "bio_language             0.063923  0.036585 -0.006386  0.008816  0.004910   \n",
      "community                0.759945 -0.027465  0.040475 -0.044876 -0.008757   \n",
      "followers_count          0.086706 -0.027664  1.069064 -0.036540  0.117001   \n",
      "is_art                   0.015082  0.012016 -0.063101 -0.036827 -0.011363   \n",
      "is_education            -0.010364  0.013167 -0.054946  0.007468 -0.030163   \n",
      "is_feminist              0.004668 -0.017009 -0.016030  0.003507  0.028748   \n",
      "is_media                -0.018994 -0.032160  0.012769  0.361132  0.000553   \n",
      "is_politics             -0.103961 -0.073473 -0.020927  0.993235  0.002089   \n",
      "is_sports               -0.007278  0.034296  0.106297  0.084394 -0.028004   \n",
      "macro_micro              0.969144 -0.010961  0.053602 -0.086248 -0.034805   \n",
      "mention_count           -0.013190 -0.005821  0.011509 -0.029831 -0.002978   \n",
      "neutral                  0.023522  0.475764 -0.064926 -0.017171  0.145257   \n",
      "positive                -0.018377  1.014048 -0.164703 -0.033606 -0.015196   \n",
      "retweet_count           -0.010726  0.192038  0.047416 -0.011234 -0.017345   \n",
      "\n",
      "                          Factor5  \n",
      "education_content_count  0.048283  \n",
      "media_content_count     -0.009535  \n",
      "politics_content_count  -0.009176  \n",
      "bio_language             0.300010  \n",
      "community                0.068053  \n",
      "followers_count         -0.215896  \n",
      "is_art                   0.544260  \n",
      "is_education             0.369078  \n",
      "is_feminist              0.126544  \n",
      "is_media                 0.342214  \n",
      "is_politics             -0.000490  \n",
      "is_sports                0.142133  \n",
      "macro_micro              0.062722  \n",
      "mention_count            0.041299  \n",
      "neutral                  0.028099  \n",
      "positive                 0.072268  \n",
      "retweet_count           -0.012477  \n"
     ]
    },
    {
     "data": {
      "image/png": "[encoded data removed]",
      "text/plain": [
       "<Figure size 432x288 with 1 Axes>"
      ]
     },
     "metadata": {
      "needs_background": "light"
     },
     "output_type": "display_data"
    },
    {
     "name": "stdout",
     "output_type": "stream",
     "text": [
      "                          Factor0   Factor1   Factor2   Factor3   Factor4  \\\n",
      "education_content_count  0.340247  0.000448 -0.014590  0.280695  0.029827   \n",
      "media_content_count      0.002437  0.025073  0.057731  0.919017  0.003803   \n",
      "politics_content_count   0.476753 -0.002481 -0.040140  0.023140  0.003519   \n",
      "bio_language            -0.006185 -0.026091  0.019187 -0.000107 -0.005454   \n",
      "community                0.063330  0.998109  0.011943 -0.027771  0.013737   \n",
      "followers_count         -0.066790  0.006560  1.011913  0.054430 -0.040686   \n",
      "is_art                  -0.034466 -0.010677  0.003878  0.004099  0.126347   \n",
      "is_education            -0.027621 -0.008471 -0.000812  0.003445  0.005244   \n",
      "is_feminist              0.040511  0.014401 -0.007616  0.000431 -0.044508   \n",
      "is_media                 0.000190 -0.052188  0.002331  0.037769  0.737509   \n",
      "is_politics              0.052705 -0.032542  0.003576  0.011699  0.577649   \n",
      "is_sports               -0.004109  0.029614 -0.004805 -0.015637  0.106949   \n",
      "macro_micro             -0.039981  0.574390  0.010594  0.035447 -0.023134   \n",
      "mention_count           -0.000298  0.001573  0.067090  0.001233  0.002200   \n",
      "neutral                  0.816288 -0.001348 -0.073151  0.004329  0.022131   \n",
      "positive                 0.974369  0.016586 -0.090105 -0.085062  0.001543   \n",
      "retweet_count            0.282270 -0.007668  0.100442 -0.050720  0.008035   \n",
      "\n",
      "                          Factor5  \n",
      "education_content_count  0.009593  \n",
      "media_content_count      0.006949  \n",
      "politics_content_count   0.020706  \n",
      "bio_language             0.241696  \n",
      "community               -0.015918  \n",
      "followers_count          0.039424  \n",
      "is_art                   0.233983  \n",
      "is_education             0.375215  \n",
      "is_feminist              0.192529  \n",
      "is_media                -0.014144  \n",
      "is_politics             -0.100401  \n",
      "is_sports                0.036020  \n",
      "macro_micro             -0.028991  \n",
      "mention_count            0.000378  \n",
      "neutral                  0.013811  \n",
      "positive                 0.028383  \n",
      "retweet_count           -0.020085  \n"
     ]
    },
    {
     "data": {
      "image/png": "[encoded data removed]",
      "text/plain": [
       "<Figure size 432x288 with 1 Axes>"
      ]
     },
     "metadata": {
      "needs_background": "light"
     },
     "output_type": "display_data"
    },
    {
     "name": "stdout",
     "output_type": "stream",
     "text": [
      "                          Factor0   Factor1   Factor2   Factor3   Factor4  \\\n",
      "education_content_count  0.787702 -0.085391 -0.030076  0.011245 -0.043076   \n",
      "media_content_count      0.180826  0.774283  0.007412  0.024800 -0.025797   \n",
      "politics_content_count  -0.145062  1.020586  0.006665 -0.011034  0.060253   \n",
      "bio_language            -0.006791  0.001862  0.117994  0.000576  0.066328   \n",
      "community               -0.025004  0.006927  0.690664 -0.021830 -0.024307   \n",
      "followers_count          0.000801 -0.004503  0.022490  0.090829 -0.056034   \n",
      "is_art                  -0.019987  0.006198 -0.011762  0.168846  0.176686   \n",
      "is_education            -0.028812  0.004819 -0.021365  0.053515  0.352945   \n",
      "is_feminist             -0.016511  0.004388 -0.004961 -0.018208  0.234789   \n",
      "is_media                 0.034644  0.012520  0.031382  0.828425 -0.069606   \n",
      "is_politics              0.011028 -0.001118 -0.019369  0.392162  0.013043   \n",
      "is_sports               -0.004649 -0.000785 -0.011661  0.107405  0.020671   \n",
      "macro_micro             -0.024150 -0.004080  1.012861 -0.063019 -0.250159   \n",
      "mention_count            0.019572 -0.002620  0.006226  0.003567  0.014034   \n",
      "neutral                  0.808472  0.145186 -0.007817 -0.003989 -0.100431   \n",
      "positive                 0.924505 -0.004974 -0.066304 -0.014354 -0.028260   \n",
      "retweet_count            0.086147 -0.012027 -0.021022 -0.112124  0.140373   \n",
      "\n",
      "                          Factor5  \n",
      "education_content_count  0.006083  \n",
      "media_content_count     -0.053165  \n",
      "politics_content_count   0.007619  \n",
      "bio_language             0.022011  \n",
      "community               -0.032647  \n",
      "followers_count          0.089521  \n",
      "is_art                   0.006167  \n",
      "is_education             0.030080  \n",
      "is_feminist              0.032873  \n",
      "is_media                -0.063480  \n",
      "is_politics             -0.020328  \n",
      "is_sports               -0.008123  \n",
      "macro_micro             -0.050613  \n",
      "mention_count           -0.010826  \n",
      "neutral                  0.098862  \n",
      "positive                 0.156857  \n",
      "retweet_count            0.503729  \n"
     ]
    }
   ],
   "source": [
    "def factor_analysis(df):\n",
    "    # Create factor analysis object and perform factor analysis\n",
    "    # Kaiser test choose features with eigenvalues greater than 1\n",
    "    fa = FactorAnalyzer()\n",
    "    fa.fit(df)\n",
    "    eigen_values, vectors = fa.get_eigenvalues()\n",
    "    plt.scatter(range(1,df.shape[1]+1),eigen_values)\n",
    "    plt.plot(range(1,df.shape[1]+1),eigen_values)\n",
    "    plt.title('Scree Plot')\n",
    "    plt.xlabel('Factors')\n",
    "    plt.ylabel('Eigenvalue')\n",
    "    plt.grid()\n",
    "    plt.show()\n",
    "    \n",
    "    fa = FactorAnalyzer()\n",
    "    fa.set_params(n_factors = 6, rotation = \"promax\")\n",
    "    fa.fit(df)\n",
    "    loadings = fa.loadings_\n",
    "    #print(fa.get_factor_variance())\n",
    "    loadings = pd.DataFrame(loadings)\n",
    "    loadings.index = list(df.columns)\n",
    "    loadings.columns = [\"Factor0\",\"Factor1\",\"Factor2\",\"Factor3\",\"Factor4\",\"Factor5\"]\n",
    "    return loadings\n",
    "\n",
    "M1_loadings = factor_analysis(M1_f)\n",
    "print(M1_loadings)\n",
    "M2_loadings = factor_analysis(M2_f)\n",
    "print(M2_loadings)\n",
    "M3_loadings = factor_analysis(M3_f)\n",
    "print(M3_loadings)\n",
    "M4_loadings = factor_analysis(M4_f)\n",
    "print(M4_loadings)\n",
    "\n",
    "M1_loadings.to_csv(\"./M1_loadings_6.csv\")\n",
    "M2_loadings.to_csv(\"./M2_loadings_6.csv\")\n",
    "M3_loadings.to_csv(\"./M3_loadings_6.csv\")\n",
    "M4_loadings.to_csv(\"./M4_loadings_6.csv\")"
   ]
  },
  {
   "cell_type": "code",
   "execution_count": 136,
   "metadata": {},
   "outputs": [],
   "source": []
  },
  {
   "cell_type": "code",
   "execution_count": null,
   "metadata": {},
   "outputs": [],
   "source": []
  },
  {
   "cell_type": "code",
   "execution_count": null,
   "metadata": {},
   "outputs": [],
   "source": []
  },
  {
   "cell_type": "code",
   "execution_count": null,
   "metadata": {},
   "outputs": [],
   "source": []
  },
  {
   "cell_type": "code",
   "execution_count": null,
   "metadata": {},
   "outputs": [],
   "source": []
  },
  {
   "cell_type": "code",
   "execution_count": null,
   "metadata": {},
   "outputs": [],
   "source": []
  },
  {
   "cell_type": "code",
   "execution_count": null,
   "metadata": {},
   "outputs": [],
   "source": []
  },
  {
   "cell_type": "code",
   "execution_count": null,
   "metadata": {},
   "outputs": [],
   "source": []
  },
  {
   "cell_type": "code",
   "execution_count": null,
   "metadata": {},
   "outputs": [],
   "source": [
    "M1_users.to_csv(\"./M1_users.csv\",index=False)\n",
    "M2_users.to_csv(\"./M2_users.csv\",index=False)\n",
    "M3_users.to_csv(\"./M3_users.csv\",index=False)\n",
    "M4_users.to_csv(\"./M4_users.csv\",index=False)"
   ]
  },
  {
   "cell_type": "code",
   "execution_count": 12,
   "metadata": {},
   "outputs": [],
   "source": [
    "M1_users = pd.read_csv(\"./M1_users.csv\")\n",
    "M2_users = pd.read_csv(\"./M2_users.csv\")\n",
    "M3_users = pd.read_csv(\"./M3_users.csv\")\n",
    "M4_users = pd.read_csv(\"./M4_users.csv\")"
   ]
  },
  {
   "cell_type": "code",
   "execution_count": 2,
   "metadata": {},
   "outputs": [],
   "source": [
    "M1_users = pd.read_csv(\"./Orig/M1_users.csv\")\n",
    "M2_users = pd.read_csv(\"./Orig/M2_users.csv\")\n",
    "M3_users = pd.read_csv(\"./Orig/M3_users.csv\")\n",
    "M4_users = pd.read_csv(\"./Orig/M4_users.csv\")"
   ]
  },
  {
   "cell_type": "code",
   "execution_count": 33,
   "metadata": {},
   "outputs": [],
   "source": [
    "# Recovery code\n",
    "M1_final_users = pd.read_csv(\"./M1_f.csv\")\n",
    "M2_final_users = pd.read_csv(\"./M2_f.csv\")\n",
    "M3_final_users = pd.read_csv(\"./M3_f.csv\")\n",
    "M4_final_users = pd.read_csv(\"./M4_f.csv\")"
   ]
  },
  {
   "cell_type": "code",
   "execution_count": 61,
   "metadata": {},
   "outputs": [],
   "source": [
    "M1_users.to_csv(\"./M1_users.csv\",index=False)\n",
    "M2_users.to_csv(\"./M2_users.csv\",index=False)\n",
    "M3_users.to_csv(\"./M3_users.csv\",index=False)\n",
    "M4_users.to_csv(\"./M4_users.csv\",index=False)"
   ]
  },
  {
   "cell_type": "code",
   "execution_count": 159,
   "metadata": {},
   "outputs": [],
   "source": [
    "M1_final_users.to_csv(\"./M1_f.csv\",index=False)\n",
    "M2_final_users.to_csv(\"./M2_f.csv\",index=False)\n",
    "M3_final_users.to_csv(\"./M3_f.csv\",index=False)\n",
    "M4_final_users.to_csv(\"./M4_f.csv\",index=False)"
   ]
  }
 ],
 "metadata": {
  "kernelspec": {
   "display_name": "Python 3",
   "language": "python",
   "name": "python3"
  },
  "language_info": {
   "codemirror_mode": {
    "name": "ipython",
    "version": 3
   },
   "file_extension": ".py",
   "mimetype": "text/x-python",
   "name": "python",
   "nbconvert_exporter": "python",
   "pygments_lexer": "ipython3",
   "version": "3.6.9"
  }
 },
 "nbformat": 4,
 "nbformat_minor": 2
}
